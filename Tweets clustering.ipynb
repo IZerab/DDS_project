{
 "cells": [
  {
   "cell_type": "code",
   "execution_count": 1,
   "id": "4c08e663",
   "metadata": {},
   "outputs": [],
   "source": [
    "# import libraries\n",
    "import pandas as pd\n",
    "import matplotlib\n",
    "import numpy as np\n",
    "import sklearn\n",
    "import mglearn\n",
    "import matplotlib.pyplot as plt\n",
    "from matplotlib import rc\n",
    "import seaborn as sns\n",
    "import statistics as st\n",
    "from sklearn import preprocessing\n",
    "from sklearn.metrics import silhouette_score \n",
    "from sklearn.cluster import KMeans \n",
    "from scipy.spatial.distance import pdist\n",
    "from scipy.cluster.hierarchy import *\n",
    "from scipy.cluster.hierarchy import linkage, dendrogram\n",
    "%matplotlib inline "
   ]
  },
  {
   "cell_type": "markdown",
   "id": "596b4776",
   "metadata": {},
   "source": [
    "# Donald Trump (clustering)"
   ]
  },
  {
   "cell_type": "markdown",
   "id": "0522fb6b",
   "metadata": {},
   "source": [
    "## Data exploration"
   ]
  },
  {
   "cell_type": "code",
   "execution_count": 2,
   "id": "03d4b8e5",
   "metadata": {},
   "outputs": [
    {
     "name": "stdout",
     "output_type": "stream",
     "text": [
      "Dimension of array:(51, 6)\n"
     ]
    },
    {
     "data": {
      "text/html": [
       "<div>\n",
       "<style scoped>\n",
       "    .dataframe tbody tr th:only-of-type {\n",
       "        vertical-align: middle;\n",
       "    }\n",
       "\n",
       "    .dataframe tbody tr th {\n",
       "        vertical-align: top;\n",
       "    }\n",
       "\n",
       "    .dataframe thead th {\n",
       "        text-align: right;\n",
       "    }\n",
       "</style>\n",
       "<table border=\"1\" class=\"dataframe\">\n",
       "  <thead>\n",
       "    <tr style=\"text-align: right;\">\n",
       "      <th></th>\n",
       "      <th>STATE_NAME</th>\n",
       "      <th>likes</th>\n",
       "      <th>retweet_count</th>\n",
       "      <th>user_followers_count</th>\n",
       "      <th>TextBlob_Subjectivity</th>\n",
       "      <th>TextBlob_Polarity</th>\n",
       "    </tr>\n",
       "  </thead>\n",
       "  <tbody>\n",
       "    <tr>\n",
       "      <th>0</th>\n",
       "      <td>Alabama</td>\n",
       "      <td>3.395514</td>\n",
       "      <td>0.759150</td>\n",
       "      <td>6022.579693</td>\n",
       "      <td>0.356253</td>\n",
       "      <td>0.078854</td>\n",
       "    </tr>\n",
       "    <tr>\n",
       "      <th>1</th>\n",
       "      <td>Alaska</td>\n",
       "      <td>1.160656</td>\n",
       "      <td>0.252459</td>\n",
       "      <td>3501.511475</td>\n",
       "      <td>0.346078</td>\n",
       "      <td>0.065971</td>\n",
       "    </tr>\n",
       "    <tr>\n",
       "      <th>2</th>\n",
       "      <td>Arizona</td>\n",
       "      <td>3.622688</td>\n",
       "      <td>0.937522</td>\n",
       "      <td>3226.875393</td>\n",
       "      <td>0.336977</td>\n",
       "      <td>0.054392</td>\n",
       "    </tr>\n",
       "    <tr>\n",
       "      <th>3</th>\n",
       "      <td>Arkansas</td>\n",
       "      <td>1.164763</td>\n",
       "      <td>0.251223</td>\n",
       "      <td>1034.484502</td>\n",
       "      <td>0.306879</td>\n",
       "      <td>0.042399</td>\n",
       "    </tr>\n",
       "    <tr>\n",
       "      <th>4</th>\n",
       "      <td>California</td>\n",
       "      <td>5.054170</td>\n",
       "      <td>1.311086</td>\n",
       "      <td>7302.158661</td>\n",
       "      <td>0.324595</td>\n",
       "      <td>0.042585</td>\n",
       "    </tr>\n",
       "    <tr>\n",
       "      <th>5</th>\n",
       "      <td>Colorado</td>\n",
       "      <td>1.427861</td>\n",
       "      <td>0.349917</td>\n",
       "      <td>3484.702598</td>\n",
       "      <td>0.338561</td>\n",
       "      <td>0.032250</td>\n",
       "    </tr>\n",
       "    <tr>\n",
       "      <th>6</th>\n",
       "      <td>Connecticut</td>\n",
       "      <td>6.236635</td>\n",
       "      <td>2.595968</td>\n",
       "      <td>3952.455741</td>\n",
       "      <td>0.284664</td>\n",
       "      <td>0.044485</td>\n",
       "    </tr>\n",
       "    <tr>\n",
       "      <th>7</th>\n",
       "      <td>Delaware</td>\n",
       "      <td>0.612245</td>\n",
       "      <td>0.134694</td>\n",
       "      <td>1614.330612</td>\n",
       "      <td>0.225753</td>\n",
       "      <td>0.014957</td>\n",
       "    </tr>\n",
       "    <tr>\n",
       "      <th>8</th>\n",
       "      <td>District of Columbia</td>\n",
       "      <td>37.077868</td>\n",
       "      <td>8.479700</td>\n",
       "      <td>21396.684676</td>\n",
       "      <td>0.308389</td>\n",
       "      <td>0.046990</td>\n",
       "    </tr>\n",
       "    <tr>\n",
       "      <th>9</th>\n",
       "      <td>Florida</td>\n",
       "      <td>3.248265</td>\n",
       "      <td>1.124550</td>\n",
       "      <td>32686.844859</td>\n",
       "      <td>0.308331</td>\n",
       "      <td>0.060683</td>\n",
       "    </tr>\n",
       "    <tr>\n",
       "      <th>10</th>\n",
       "      <td>Georgia</td>\n",
       "      <td>4.212796</td>\n",
       "      <td>1.022601</td>\n",
       "      <td>12315.285814</td>\n",
       "      <td>0.318664</td>\n",
       "      <td>0.069333</td>\n",
       "    </tr>\n",
       "    <tr>\n",
       "      <th>11</th>\n",
       "      <td>Hawaii</td>\n",
       "      <td>3.313901</td>\n",
       "      <td>0.568012</td>\n",
       "      <td>9458.841555</td>\n",
       "      <td>0.341948</td>\n",
       "      <td>0.041028</td>\n",
       "    </tr>\n",
       "    <tr>\n",
       "      <th>12</th>\n",
       "      <td>Idaho</td>\n",
       "      <td>1.057566</td>\n",
       "      <td>0.220395</td>\n",
       "      <td>2316.804276</td>\n",
       "      <td>0.375713</td>\n",
       "      <td>0.037282</td>\n",
       "    </tr>\n",
       "    <tr>\n",
       "      <th>13</th>\n",
       "      <td>Illinois</td>\n",
       "      <td>3.344505</td>\n",
       "      <td>0.872015</td>\n",
       "      <td>7023.822631</td>\n",
       "      <td>0.336689</td>\n",
       "      <td>0.041336</td>\n",
       "    </tr>\n",
       "    <tr>\n",
       "      <th>14</th>\n",
       "      <td>Indiana</td>\n",
       "      <td>1.777918</td>\n",
       "      <td>0.423975</td>\n",
       "      <td>1447.894637</td>\n",
       "      <td>0.399594</td>\n",
       "      <td>0.026929</td>\n",
       "    </tr>\n",
       "    <tr>\n",
       "      <th>15</th>\n",
       "      <td>Iowa</td>\n",
       "      <td>2.963636</td>\n",
       "      <td>1.123864</td>\n",
       "      <td>6337.639773</td>\n",
       "      <td>0.333185</td>\n",
       "      <td>0.050682</td>\n",
       "    </tr>\n",
       "    <tr>\n",
       "      <th>16</th>\n",
       "      <td>Kansas</td>\n",
       "      <td>13.367757</td>\n",
       "      <td>3.332464</td>\n",
       "      <td>15102.012615</td>\n",
       "      <td>0.318934</td>\n",
       "      <td>0.055839</td>\n",
       "    </tr>\n",
       "    <tr>\n",
       "      <th>17</th>\n",
       "      <td>Kentucky</td>\n",
       "      <td>5.516846</td>\n",
       "      <td>2.737197</td>\n",
       "      <td>6454.987197</td>\n",
       "      <td>0.329601</td>\n",
       "      <td>0.079567</td>\n",
       "    </tr>\n",
       "    <tr>\n",
       "      <th>18</th>\n",
       "      <td>Louisiana</td>\n",
       "      <td>6.083556</td>\n",
       "      <td>0.879111</td>\n",
       "      <td>5228.981333</td>\n",
       "      <td>0.344424</td>\n",
       "      <td>0.061236</td>\n",
       "    </tr>\n",
       "    <tr>\n",
       "      <th>19</th>\n",
       "      <td>Maine</td>\n",
       "      <td>1.719388</td>\n",
       "      <td>0.298469</td>\n",
       "      <td>2064.352041</td>\n",
       "      <td>0.344380</td>\n",
       "      <td>0.055915</td>\n",
       "    </tr>\n",
       "    <tr>\n",
       "      <th>20</th>\n",
       "      <td>Maryland</td>\n",
       "      <td>1.719290</td>\n",
       "      <td>0.470953</td>\n",
       "      <td>2065.625277</td>\n",
       "      <td>0.360776</td>\n",
       "      <td>0.043433</td>\n",
       "    </tr>\n",
       "    <tr>\n",
       "      <th>21</th>\n",
       "      <td>Massachusetts</td>\n",
       "      <td>1.942336</td>\n",
       "      <td>0.684969</td>\n",
       "      <td>5370.614586</td>\n",
       "      <td>0.362495</td>\n",
       "      <td>0.047273</td>\n",
       "    </tr>\n",
       "    <tr>\n",
       "      <th>22</th>\n",
       "      <td>Michigan</td>\n",
       "      <td>1.915271</td>\n",
       "      <td>0.491954</td>\n",
       "      <td>2516.354680</td>\n",
       "      <td>0.364994</td>\n",
       "      <td>0.058745</td>\n",
       "    </tr>\n",
       "    <tr>\n",
       "      <th>23</th>\n",
       "      <td>Minnesota</td>\n",
       "      <td>2.058210</td>\n",
       "      <td>0.459638</td>\n",
       "      <td>2129.412411</td>\n",
       "      <td>0.359060</td>\n",
       "      <td>0.035252</td>\n",
       "    </tr>\n",
       "    <tr>\n",
       "      <th>24</th>\n",
       "      <td>Mississippi</td>\n",
       "      <td>2.427136</td>\n",
       "      <td>0.768844</td>\n",
       "      <td>750.613065</td>\n",
       "      <td>0.341687</td>\n",
       "      <td>0.046917</td>\n",
       "    </tr>\n",
       "    <tr>\n",
       "      <th>25</th>\n",
       "      <td>Missouri</td>\n",
       "      <td>1.089883</td>\n",
       "      <td>0.276162</td>\n",
       "      <td>2329.632219</td>\n",
       "      <td>0.332918</td>\n",
       "      <td>0.037155</td>\n",
       "    </tr>\n",
       "    <tr>\n",
       "      <th>26</th>\n",
       "      <td>Montana</td>\n",
       "      <td>0.913295</td>\n",
       "      <td>0.150289</td>\n",
       "      <td>1687.127168</td>\n",
       "      <td>0.340116</td>\n",
       "      <td>0.038944</td>\n",
       "    </tr>\n",
       "    <tr>\n",
       "      <th>27</th>\n",
       "      <td>Nebraska</td>\n",
       "      <td>2.543147</td>\n",
       "      <td>0.360406</td>\n",
       "      <td>2942.081218</td>\n",
       "      <td>0.333464</td>\n",
       "      <td>0.069142</td>\n",
       "    </tr>\n",
       "    <tr>\n",
       "      <th>28</th>\n",
       "      <td>Nevada</td>\n",
       "      <td>3.616834</td>\n",
       "      <td>1.154941</td>\n",
       "      <td>9086.584590</td>\n",
       "      <td>0.340793</td>\n",
       "      <td>0.057283</td>\n",
       "    </tr>\n",
       "    <tr>\n",
       "      <th>29</th>\n",
       "      <td>New Hampshire</td>\n",
       "      <td>2.827206</td>\n",
       "      <td>0.981618</td>\n",
       "      <td>3266.680147</td>\n",
       "      <td>0.300487</td>\n",
       "      <td>0.053028</td>\n",
       "    </tr>\n",
       "    <tr>\n",
       "      <th>30</th>\n",
       "      <td>New Jersey</td>\n",
       "      <td>5.796419</td>\n",
       "      <td>1.632871</td>\n",
       "      <td>9006.238785</td>\n",
       "      <td>0.323754</td>\n",
       "      <td>0.044170</td>\n",
       "    </tr>\n",
       "    <tr>\n",
       "      <th>31</th>\n",
       "      <td>New Mexico</td>\n",
       "      <td>1.165339</td>\n",
       "      <td>0.336653</td>\n",
       "      <td>2861.737052</td>\n",
       "      <td>0.300257</td>\n",
       "      <td>0.043524</td>\n",
       "    </tr>\n",
       "    <tr>\n",
       "      <th>32</th>\n",
       "      <td>New York</td>\n",
       "      <td>27.857721</td>\n",
       "      <td>6.547397</td>\n",
       "      <td>12947.662021</td>\n",
       "      <td>0.327546</td>\n",
       "      <td>0.050217</td>\n",
       "    </tr>\n",
       "    <tr>\n",
       "      <th>33</th>\n",
       "      <td>North Carolina</td>\n",
       "      <td>2.961992</td>\n",
       "      <td>0.876252</td>\n",
       "      <td>2359.232174</td>\n",
       "      <td>0.334483</td>\n",
       "      <td>0.051935</td>\n",
       "    </tr>\n",
       "    <tr>\n",
       "      <th>34</th>\n",
       "      <td>North Dakota</td>\n",
       "      <td>1.238095</td>\n",
       "      <td>0.229814</td>\n",
       "      <td>841.151139</td>\n",
       "      <td>0.319822</td>\n",
       "      <td>0.074108</td>\n",
       "    </tr>\n",
       "    <tr>\n",
       "      <th>35</th>\n",
       "      <td>Ohio</td>\n",
       "      <td>1.738622</td>\n",
       "      <td>0.405982</td>\n",
       "      <td>1854.284525</td>\n",
       "      <td>0.338754</td>\n",
       "      <td>0.051054</td>\n",
       "    </tr>\n",
       "    <tr>\n",
       "      <th>36</th>\n",
       "      <td>Oklahoma</td>\n",
       "      <td>1.531287</td>\n",
       "      <td>0.584416</td>\n",
       "      <td>2467.821724</td>\n",
       "      <td>0.343047</td>\n",
       "      <td>0.054294</td>\n",
       "    </tr>\n",
       "    <tr>\n",
       "      <th>37</th>\n",
       "      <td>Oregon</td>\n",
       "      <td>1.014479</td>\n",
       "      <td>0.417632</td>\n",
       "      <td>1618.178893</td>\n",
       "      <td>0.365900</td>\n",
       "      <td>0.033538</td>\n",
       "    </tr>\n",
       "    <tr>\n",
       "      <th>38</th>\n",
       "      <td>Pennsylvania</td>\n",
       "      <td>4.035658</td>\n",
       "      <td>0.918699</td>\n",
       "      <td>3876.440593</td>\n",
       "      <td>0.359719</td>\n",
       "      <td>0.042886</td>\n",
       "    </tr>\n",
       "    <tr>\n",
       "      <th>39</th>\n",
       "      <td>Rhode Island</td>\n",
       "      <td>21.476923</td>\n",
       "      <td>9.311538</td>\n",
       "      <td>10203.511538</td>\n",
       "      <td>0.308590</td>\n",
       "      <td>0.036686</td>\n",
       "    </tr>\n",
       "    <tr>\n",
       "      <th>40</th>\n",
       "      <td>South Carolina</td>\n",
       "      <td>8.403670</td>\n",
       "      <td>2.351376</td>\n",
       "      <td>4655.686239</td>\n",
       "      <td>0.317717</td>\n",
       "      <td>0.040044</td>\n",
       "    </tr>\n",
       "    <tr>\n",
       "      <th>41</th>\n",
       "      <td>South Dakota</td>\n",
       "      <td>0.533333</td>\n",
       "      <td>0.053333</td>\n",
       "      <td>371.880000</td>\n",
       "      <td>0.304348</td>\n",
       "      <td>0.036539</td>\n",
       "    </tr>\n",
       "    <tr>\n",
       "      <th>42</th>\n",
       "      <td>Tennessee</td>\n",
       "      <td>4.727474</td>\n",
       "      <td>1.490901</td>\n",
       "      <td>3497.019530</td>\n",
       "      <td>0.332984</td>\n",
       "      <td>0.058325</td>\n",
       "    </tr>\n",
       "    <tr>\n",
       "      <th>43</th>\n",
       "      <td>Texas</td>\n",
       "      <td>4.640923</td>\n",
       "      <td>1.826837</td>\n",
       "      <td>4365.667760</td>\n",
       "      <td>0.324288</td>\n",
       "      <td>0.043267</td>\n",
       "    </tr>\n",
       "    <tr>\n",
       "      <th>44</th>\n",
       "      <td>Utah</td>\n",
       "      <td>0.972737</td>\n",
       "      <td>0.171210</td>\n",
       "      <td>2572.305344</td>\n",
       "      <td>0.283449</td>\n",
       "      <td>0.056988</td>\n",
       "    </tr>\n",
       "    <tr>\n",
       "      <th>45</th>\n",
       "      <td>Vermont</td>\n",
       "      <td>1.393839</td>\n",
       "      <td>0.240924</td>\n",
       "      <td>7417.658966</td>\n",
       "      <td>0.396491</td>\n",
       "      <td>0.018958</td>\n",
       "    </tr>\n",
       "    <tr>\n",
       "      <th>46</th>\n",
       "      <td>Virginia</td>\n",
       "      <td>2.588793</td>\n",
       "      <td>0.740832</td>\n",
       "      <td>3171.067161</td>\n",
       "      <td>0.333210</td>\n",
       "      <td>0.055268</td>\n",
       "    </tr>\n",
       "    <tr>\n",
       "      <th>47</th>\n",
       "      <td>Washington</td>\n",
       "      <td>1.204765</td>\n",
       "      <td>0.347357</td>\n",
       "      <td>2139.715190</td>\n",
       "      <td>0.363903</td>\n",
       "      <td>0.074701</td>\n",
       "    </tr>\n",
       "    <tr>\n",
       "      <th>48</th>\n",
       "      <td>West Virginia</td>\n",
       "      <td>3.350000</td>\n",
       "      <td>0.870000</td>\n",
       "      <td>1611.943333</td>\n",
       "      <td>0.332108</td>\n",
       "      <td>0.061214</td>\n",
       "    </tr>\n",
       "    <tr>\n",
       "      <th>49</th>\n",
       "      <td>Wisconsin</td>\n",
       "      <td>2.197021</td>\n",
       "      <td>0.576845</td>\n",
       "      <td>1608.441435</td>\n",
       "      <td>0.340867</td>\n",
       "      <td>0.049280</td>\n",
       "    </tr>\n",
       "    <tr>\n",
       "      <th>50</th>\n",
       "      <td>Wyoming</td>\n",
       "      <td>1.044610</td>\n",
       "      <td>0.167286</td>\n",
       "      <td>709.661710</td>\n",
       "      <td>0.355994</td>\n",
       "      <td>0.066072</td>\n",
       "    </tr>\n",
       "  </tbody>\n",
       "</table>\n",
       "</div>"
      ],
      "text/plain": [
       "              STATE_NAME      likes  retweet_count  user_followers_count  \\\n",
       "0                Alabama   3.395514       0.759150           6022.579693   \n",
       "1                 Alaska   1.160656       0.252459           3501.511475   \n",
       "2                Arizona   3.622688       0.937522           3226.875393   \n",
       "3               Arkansas   1.164763       0.251223           1034.484502   \n",
       "4             California   5.054170       1.311086           7302.158661   \n",
       "5               Colorado   1.427861       0.349917           3484.702598   \n",
       "6            Connecticut   6.236635       2.595968           3952.455741   \n",
       "7               Delaware   0.612245       0.134694           1614.330612   \n",
       "8   District of Columbia  37.077868       8.479700          21396.684676   \n",
       "9                Florida   3.248265       1.124550          32686.844859   \n",
       "10               Georgia   4.212796       1.022601          12315.285814   \n",
       "11                Hawaii   3.313901       0.568012           9458.841555   \n",
       "12                 Idaho   1.057566       0.220395           2316.804276   \n",
       "13              Illinois   3.344505       0.872015           7023.822631   \n",
       "14               Indiana   1.777918       0.423975           1447.894637   \n",
       "15                  Iowa   2.963636       1.123864           6337.639773   \n",
       "16                Kansas  13.367757       3.332464          15102.012615   \n",
       "17              Kentucky   5.516846       2.737197           6454.987197   \n",
       "18             Louisiana   6.083556       0.879111           5228.981333   \n",
       "19                 Maine   1.719388       0.298469           2064.352041   \n",
       "20              Maryland   1.719290       0.470953           2065.625277   \n",
       "21         Massachusetts   1.942336       0.684969           5370.614586   \n",
       "22              Michigan   1.915271       0.491954           2516.354680   \n",
       "23             Minnesota   2.058210       0.459638           2129.412411   \n",
       "24           Mississippi   2.427136       0.768844            750.613065   \n",
       "25              Missouri   1.089883       0.276162           2329.632219   \n",
       "26               Montana   0.913295       0.150289           1687.127168   \n",
       "27              Nebraska   2.543147       0.360406           2942.081218   \n",
       "28                Nevada   3.616834       1.154941           9086.584590   \n",
       "29         New Hampshire   2.827206       0.981618           3266.680147   \n",
       "30            New Jersey   5.796419       1.632871           9006.238785   \n",
       "31            New Mexico   1.165339       0.336653           2861.737052   \n",
       "32              New York  27.857721       6.547397          12947.662021   \n",
       "33        North Carolina   2.961992       0.876252           2359.232174   \n",
       "34          North Dakota   1.238095       0.229814            841.151139   \n",
       "35                  Ohio   1.738622       0.405982           1854.284525   \n",
       "36              Oklahoma   1.531287       0.584416           2467.821724   \n",
       "37                Oregon   1.014479       0.417632           1618.178893   \n",
       "38          Pennsylvania   4.035658       0.918699           3876.440593   \n",
       "39          Rhode Island  21.476923       9.311538          10203.511538   \n",
       "40        South Carolina   8.403670       2.351376           4655.686239   \n",
       "41          South Dakota   0.533333       0.053333            371.880000   \n",
       "42             Tennessee   4.727474       1.490901           3497.019530   \n",
       "43                 Texas   4.640923       1.826837           4365.667760   \n",
       "44                  Utah   0.972737       0.171210           2572.305344   \n",
       "45               Vermont   1.393839       0.240924           7417.658966   \n",
       "46              Virginia   2.588793       0.740832           3171.067161   \n",
       "47            Washington   1.204765       0.347357           2139.715190   \n",
       "48         West Virginia   3.350000       0.870000           1611.943333   \n",
       "49             Wisconsin   2.197021       0.576845           1608.441435   \n",
       "50               Wyoming   1.044610       0.167286            709.661710   \n",
       "\n",
       "    TextBlob_Subjectivity  TextBlob_Polarity  \n",
       "0                0.356253           0.078854  \n",
       "1                0.346078           0.065971  \n",
       "2                0.336977           0.054392  \n",
       "3                0.306879           0.042399  \n",
       "4                0.324595           0.042585  \n",
       "5                0.338561           0.032250  \n",
       "6                0.284664           0.044485  \n",
       "7                0.225753           0.014957  \n",
       "8                0.308389           0.046990  \n",
       "9                0.308331           0.060683  \n",
       "10               0.318664           0.069333  \n",
       "11               0.341948           0.041028  \n",
       "12               0.375713           0.037282  \n",
       "13               0.336689           0.041336  \n",
       "14               0.399594           0.026929  \n",
       "15               0.333185           0.050682  \n",
       "16               0.318934           0.055839  \n",
       "17               0.329601           0.079567  \n",
       "18               0.344424           0.061236  \n",
       "19               0.344380           0.055915  \n",
       "20               0.360776           0.043433  \n",
       "21               0.362495           0.047273  \n",
       "22               0.364994           0.058745  \n",
       "23               0.359060           0.035252  \n",
       "24               0.341687           0.046917  \n",
       "25               0.332918           0.037155  \n",
       "26               0.340116           0.038944  \n",
       "27               0.333464           0.069142  \n",
       "28               0.340793           0.057283  \n",
       "29               0.300487           0.053028  \n",
       "30               0.323754           0.044170  \n",
       "31               0.300257           0.043524  \n",
       "32               0.327546           0.050217  \n",
       "33               0.334483           0.051935  \n",
       "34               0.319822           0.074108  \n",
       "35               0.338754           0.051054  \n",
       "36               0.343047           0.054294  \n",
       "37               0.365900           0.033538  \n",
       "38               0.359719           0.042886  \n",
       "39               0.308590           0.036686  \n",
       "40               0.317717           0.040044  \n",
       "41               0.304348           0.036539  \n",
       "42               0.332984           0.058325  \n",
       "43               0.324288           0.043267  \n",
       "44               0.283449           0.056988  \n",
       "45               0.396491           0.018958  \n",
       "46               0.333210           0.055268  \n",
       "47               0.363903           0.074701  \n",
       "48               0.332108           0.061214  \n",
       "49               0.340867           0.049280  \n",
       "50               0.355994           0.066072  "
      ]
     },
     "execution_count": 2,
     "metadata": {},
     "output_type": "execute_result"
    }
   ],
   "source": [
    "# upload dataset Donuld Trump\n",
    "donald_df = pd.read_csv('States_donald_mined.csv')\n",
    "print('Dimension of array:{}'.format(donald_df.shape))\n",
    "donald_df"
   ]
  },
  {
   "cell_type": "code",
   "execution_count": 3,
   "id": "4b4cf7d0",
   "metadata": {},
   "outputs": [
    {
     "data": {
      "text/html": [
       "<div>\n",
       "<style scoped>\n",
       "    .dataframe tbody tr th:only-of-type {\n",
       "        vertical-align: middle;\n",
       "    }\n",
       "\n",
       "    .dataframe tbody tr th {\n",
       "        vertical-align: top;\n",
       "    }\n",
       "\n",
       "    .dataframe thead th {\n",
       "        text-align: right;\n",
       "    }\n",
       "</style>\n",
       "<table border=\"1\" class=\"dataframe\">\n",
       "  <thead>\n",
       "    <tr style=\"text-align: right;\">\n",
       "      <th></th>\n",
       "      <th>likes</th>\n",
       "      <th>retweet_count</th>\n",
       "      <th>user_followers_count</th>\n",
       "      <th>TextBlob_Subjectivity</th>\n",
       "      <th>TextBlob_Polarity</th>\n",
       "    </tr>\n",
       "  </thead>\n",
       "  <tbody>\n",
       "    <tr>\n",
       "      <th>likes</th>\n",
       "      <td>1.000000</td>\n",
       "      <td>0.943471</td>\n",
       "      <td>0.565869</td>\n",
       "      <td>-0.203372</td>\n",
       "      <td>-0.006328</td>\n",
       "    </tr>\n",
       "    <tr>\n",
       "      <th>retweet_count</th>\n",
       "      <td>0.943471</td>\n",
       "      <td>1.000000</td>\n",
       "      <td>0.525624</td>\n",
       "      <td>-0.241366</td>\n",
       "      <td>-0.023877</td>\n",
       "    </tr>\n",
       "    <tr>\n",
       "      <th>user_followers_count</th>\n",
       "      <td>0.565869</td>\n",
       "      <td>0.525624</td>\n",
       "      <td>1.000000</td>\n",
       "      <td>-0.178058</td>\n",
       "      <td>0.113695</td>\n",
       "    </tr>\n",
       "    <tr>\n",
       "      <th>TextBlob_Subjectivity</th>\n",
       "      <td>-0.203372</td>\n",
       "      <td>-0.241366</td>\n",
       "      <td>-0.178058</td>\n",
       "      <td>1.000000</td>\n",
       "      <td>0.046481</td>\n",
       "    </tr>\n",
       "    <tr>\n",
       "      <th>TextBlob_Polarity</th>\n",
       "      <td>-0.006328</td>\n",
       "      <td>-0.023877</td>\n",
       "      <td>0.113695</td>\n",
       "      <td>0.046481</td>\n",
       "      <td>1.000000</td>\n",
       "    </tr>\n",
       "  </tbody>\n",
       "</table>\n",
       "</div>"
      ],
      "text/plain": [
       "                          likes  retweet_count  user_followers_count  \\\n",
       "likes                  1.000000       0.943471              0.565869   \n",
       "retweet_count          0.943471       1.000000              0.525624   \n",
       "user_followers_count   0.565869       0.525624              1.000000   \n",
       "TextBlob_Subjectivity -0.203372      -0.241366             -0.178058   \n",
       "TextBlob_Polarity     -0.006328      -0.023877              0.113695   \n",
       "\n",
       "                       TextBlob_Subjectivity  TextBlob_Polarity  \n",
       "likes                              -0.203372          -0.006328  \n",
       "retweet_count                      -0.241366          -0.023877  \n",
       "user_followers_count               -0.178058           0.113695  \n",
       "TextBlob_Subjectivity               1.000000           0.046481  \n",
       "TextBlob_Polarity                   0.046481           1.000000  "
      ]
     },
     "execution_count": 3,
     "metadata": {},
     "output_type": "execute_result"
    }
   ],
   "source": [
    "# let's see the presence of correlations between values \n",
    "donald_df.corr ()"
   ]
  },
  {
   "cell_type": "markdown",
   "id": "01935944",
   "metadata": {},
   "source": [
    "Strong correlation can be found between 2 features: likes and retweet_count "
   ]
  },
  {
   "cell_type": "code",
   "execution_count": 4,
   "id": "daa0a3ad",
   "metadata": {},
   "outputs": [
    {
     "data": {
      "text/plain": [
       "Text(0, 0.5, 'retweet_count')"
      ]
     },
     "execution_count": 4,
     "metadata": {},
     "output_type": "execute_result"
    },
    {
     "data": {
      "image/png": "[encoded data removed]",
      "text/plain": [
       "<Figure size 720x432 with 1 Axes>"
      ]
     },
     "metadata": {
      "needs_background": "light"
     },
     "output_type": "display_data"
    }
   ],
   "source": [
    "# scatter plots of two parameters with high correlation\n",
    "col1 = 'likes'\n",
    "col2 = 'retweet_count'\n",
    "\n",
    "plt.figure(figsize=(10, 6))\n",
    "\n",
    "plt.scatter(donald_df[col1],\n",
    "            donald_df[col2],\n",
    "            alpha=0.75,\n",
    "            color='red')\n",
    "plt.xlabel(col1)\n",
    "plt.ylabel(col2)"
   ]
  },
  {
   "cell_type": "code",
   "execution_count": 5,
   "id": "fa7e0b00",
   "metadata": {},
   "outputs": [
    {
     "data": {
      "text/plain": [
       "STATE_NAME                object\n",
       "likes                    float64\n",
       "retweet_count            float64\n",
       "user_followers_count     float64\n",
       "TextBlob_Subjectivity    float64\n",
       "TextBlob_Polarity        float64\n",
       "dtype: object"
      ]
     },
     "execution_count": 5,
     "metadata": {},
     "output_type": "execute_result"
    }
   ],
   "source": [
    "# find out datatypes\n",
    "donald_df.dtypes"
   ]
  },
  {
   "cell_type": "code",
   "execution_count": 6,
   "id": "b25d05b6",
   "metadata": {},
   "outputs": [
    {
     "data": {
      "text/plain": [
       "False"
      ]
     },
     "execution_count": 6,
     "metadata": {},
     "output_type": "execute_result"
    }
   ],
   "source": [
    "# checking for which columns consist missing values\n",
    "donald_df.isnull().any().any()"
   ]
  },
  {
   "cell_type": "code",
   "execution_count": 7,
   "id": "4bfc8811",
   "metadata": {},
   "outputs": [
    {
     "name": "stdout",
     "output_type": "stream",
     "text": [
      "<class 'pandas.core.frame.DataFrame'>\n",
      "RangeIndex: 51 entries, 0 to 50\n",
      "Data columns (total 6 columns):\n",
      " #   Column                 Non-Null Count  Dtype  \n",
      "---  ------                 --------------  -----  \n",
      " 0   STATE_NAME             51 non-null     object \n",
      " 1   likes                  51 non-null     float64\n",
      " 2   retweet_count          51 non-null     float64\n",
      " 3   user_followers_count   51 non-null     float64\n",
      " 4   TextBlob_Subjectivity  51 non-null     float64\n",
      " 5   TextBlob_Polarity      51 non-null     float64\n",
      "dtypes: float64(5), object(1)\n",
      "memory usage: 2.5+ KB\n"
     ]
    }
   ],
   "source": [
    "# to see full info about the data at once we can use info()\n",
    "donald_df.info()"
   ]
  },
  {
   "cell_type": "code",
   "execution_count": 8,
   "id": "076d7f12",
   "metadata": {
    "scrolled": true
   },
   "outputs": [
    {
     "data": {
      "image/png": "[encoded data removed]",
      "text/plain": [
       "<Figure size 1440x2520 with 5 Axes>"
      ]
     },
     "metadata": {
      "needs_background": "light"
     },
     "output_type": "display_data"
    }
   ],
   "source": [
    "#lets see data distribution to check how skewed our data\n",
    "plt.figure(figsize=(20,35))\n",
    "for i, col in enumerate(donald_df.columns):\n",
    "    if donald_df[col].dtype != 'object':\n",
    "        ax = plt.subplot(9, 2, i+1)\n",
    "        sns.kdeplot(donald_df[col], ax=ax)\n",
    "        plt.xlabel(col)\n",
    "        \n",
    "plt.show()"
   ]
  },
  {
   "cell_type": "markdown",
   "id": "3426d5f1",
   "metadata": {},
   "source": [
    "Some data is skewed."
   ]
  },
  {
   "cell_type": "markdown",
   "id": "04a76081",
   "metadata": {},
   "source": [
    "## Data preprocessing"
   ]
  },
  {
   "cell_type": "code",
   "execution_count": 9,
   "id": "d461f33f",
   "metadata": {},
   "outputs": [],
   "source": [
    "# Firstly we should drop the columns which are not important for clustering \n",
    "# Names of states do not influence the results of clustering\n",
    "donald_df.drop(['STATE_NAME'], axis=1, inplace=True)"
   ]
  },
  {
   "cell_type": "code",
   "execution_count": 10,
   "id": "da7220b0",
   "metadata": {},
   "outputs": [],
   "source": [
    "# lets try to to get at least a little bit better distribution\n",
    "columns = ['likes', 'retweet_count', 'user_followers_count', 'TextBlob_Subjectivity', 'TextBlob_Polarity']\n",
    "\n",
    "for col in columns:\n",
    "    donald_df[col] = np.log(1 + donald_df[col])"
   ]
  },
  {
   "cell_type": "code",
   "execution_count": 11,
   "id": "a5ce6dac",
   "metadata": {},
   "outputs": [
    {
     "data": {
      "image/png": "[encoded data removed]",
      "text/plain": [
       "<Figure size 1440x2520 with 5 Axes>"
      ]
     },
     "metadata": {
      "needs_background": "light"
     },
     "output_type": "display_data"
    }
   ],
   "source": [
    "plt.figure(figsize=(20,35))\n",
    "for i, col in enumerate(donald_df.columns):\n",
    "    if donald_df[col].dtype != 'object':\n",
    "        ax = plt.subplot(9, 2, i+1)\n",
    "        sns.kdeplot(donald_df[col], ax=ax)\n",
    "        plt.xlabel(col)\n",
    "        \n",
    "plt.show()"
   ]
  },
  {
   "cell_type": "markdown",
   "id": "2b3b0940",
   "metadata": {},
   "source": [
    "The distribution now looks better."
   ]
  },
  {
   "cell_type": "code",
   "execution_count": 12,
   "id": "9190eb46",
   "metadata": {},
   "outputs": [],
   "source": [
    "# rounding to 3 decimal\n",
    "donald_df = donald_df.round(3)"
   ]
  },
  {
   "cell_type": "markdown",
   "id": "7d5065c3",
   "metadata": {},
   "source": [
    "To handle the correlation we can do dimensionality reduction and bring the data down to lower dimension.\n",
    "But before we can do PCA (principal component analysis), we should make sure that there are no infinite or NaN values."
   ]
  },
  {
   "cell_type": "code",
   "execution_count": 13,
   "id": "6ecb8ec5",
   "metadata": {},
   "outputs": [
    {
     "name": "stdout",
     "output_type": "stream",
     "text": [
      "    likes  retweet_count  user_followers_count  TextBlob_Subjectivity  \\\n",
      "0   False          False                 False                  False   \n",
      "1   False          False                 False                  False   \n",
      "2   False          False                 False                  False   \n",
      "3   False          False                 False                  False   \n",
      "4   False          False                 False                  False   \n",
      "5   False          False                 False                  False   \n",
      "6   False          False                 False                  False   \n",
      "7   False          False                 False                  False   \n",
      "8   False          False                 False                  False   \n",
      "9   False          False                 False                  False   \n",
      "10  False          False                 False                  False   \n",
      "11  False          False                 False                  False   \n",
      "12  False          False                 False                  False   \n",
      "13  False          False                 False                  False   \n",
      "14  False          False                 False                  False   \n",
      "15  False          False                 False                  False   \n",
      "16  False          False                 False                  False   \n",
      "17  False          False                 False                  False   \n",
      "18  False          False                 False                  False   \n",
      "19  False          False                 False                  False   \n",
      "20  False          False                 False                  False   \n",
      "21  False          False                 False                  False   \n",
      "22  False          False                 False                  False   \n",
      "23  False          False                 False                  False   \n",
      "24  False          False                 False                  False   \n",
      "25  False          False                 False                  False   \n",
      "26  False          False                 False                  False   \n",
      "27  False          False                 False                  False   \n",
      "28  False          False                 False                  False   \n",
      "29  False          False                 False                  False   \n",
      "30  False          False                 False                  False   \n",
      "31  False          False                 False                  False   \n",
      "32  False          False                 False                  False   \n",
      "33  False          False                 False                  False   \n",
      "34  False          False                 False                  False   \n",
      "35  False          False                 False                  False   \n",
      "36  False          False                 False                  False   \n",
      "37  False          False                 False                  False   \n",
      "38  False          False                 False                  False   \n",
      "39  False          False                 False                  False   \n",
      "40  False          False                 False                  False   \n",
      "41  False          False                 False                  False   \n",
      "42  False          False                 False                  False   \n",
      "43  False          False                 False                  False   \n",
      "44  False          False                 False                  False   \n",
      "45  False          False                 False                  False   \n",
      "46  False          False                 False                  False   \n",
      "47  False          False                 False                  False   \n",
      "48  False          False                 False                  False   \n",
      "49  False          False                 False                  False   \n",
      "50  False          False                 False                  False   \n",
      "\n",
      "    TextBlob_Polarity  \n",
      "0               False  \n",
      "1               False  \n",
      "2               False  \n",
      "3               False  \n",
      "4               False  \n",
      "5               False  \n",
      "6               False  \n",
      "7               False  \n",
      "8               False  \n",
      "9               False  \n",
      "10              False  \n",
      "11              False  \n",
      "12              False  \n",
      "13              False  \n",
      "14              False  \n",
      "15              False  \n",
      "16              False  \n",
      "17              False  \n",
      "18              False  \n",
      "19              False  \n",
      "20              False  \n",
      "21              False  \n",
      "22              False  \n",
      "23              False  \n",
      "24              False  \n",
      "25              False  \n",
      "26              False  \n",
      "27              False  \n",
      "28              False  \n",
      "29              False  \n",
      "30              False  \n",
      "31              False  \n",
      "32              False  \n",
      "33              False  \n",
      "34              False  \n",
      "35              False  \n",
      "36              False  \n",
      "37              False  \n",
      "38              False  \n",
      "39              False  \n",
      "40              False  \n",
      "41              False  \n",
      "42              False  \n",
      "43              False  \n",
      "44              False  \n",
      "45              False  \n",
      "46              False  \n",
      "47              False  \n",
      "48              False  \n",
      "49              False  \n",
      "50              False  \n"
     ]
    }
   ],
   "source": [
    "# checking for infinity \n",
    "ds = donald_df.isin([np.inf, -np.inf])\n",
    "print(ds)"
   ]
  },
  {
   "cell_type": "code",
   "execution_count": 14,
   "id": "7c2af9c5",
   "metadata": {},
   "outputs": [
    {
     "name": "stdout",
     "output_type": "stream",
     "text": [
      "\n",
      "Count of infinity values: \n",
      "\n",
      "It contains 0 infinite values\n"
     ]
    }
   ],
   "source": [
    "# printing the count of infinity values\n",
    "print(\"\\nCount of infinity values: \\n\")\n",
    "count = donald_df.isin([np.inf, -np.inf]).values.sum()\n",
    "print(\"It contains \" + str(count) + \" infinite values\")"
   ]
  },
  {
   "cell_type": "code",
   "execution_count": 15,
   "id": "7e87fcd3",
   "metadata": {},
   "outputs": [
    {
     "data": {
      "text/plain": [
       "False"
      ]
     },
     "execution_count": 15,
     "metadata": {},
     "output_type": "execute_result"
    }
   ],
   "source": [
    "np.any(np.isnan(donald_df))"
   ]
  },
  {
   "cell_type": "code",
   "execution_count": 16,
   "id": "80c20671",
   "metadata": {},
   "outputs": [
    {
     "data": {
      "text/plain": [
       "True"
      ]
     },
     "execution_count": 16,
     "metadata": {},
     "output_type": "execute_result"
    }
   ],
   "source": [
    "np.all(np.isfinite(donald_df))"
   ]
  },
  {
   "cell_type": "code",
   "execution_count": 17,
   "id": "5efca04d",
   "metadata": {},
   "outputs": [],
   "source": [
    "# PCA (principal component analysis)\n",
    "from sklearn.decomposition import PCA\n",
    "\n",
    "pca = PCA(n_components=0.95)\n",
    "donald_pca = pca.fit_transform(donald_df)"
   ]
  },
  {
   "cell_type": "code",
   "execution_count": 18,
   "id": "10c7717a",
   "metadata": {},
   "outputs": [],
   "source": [
    "# Calculate Euclidean distance (distance between dataset)\n",
    "# This will ensure that the elements are combined into clusters and store them in a special variable\n",
    "data_dist = pdist (donald_pca, 'euclidean')\n",
    "data_linkage = linkage (data_dist, method = 'average')"
   ]
  },
  {
   "cell_type": "markdown",
   "id": "b9645fcc",
   "metadata": {},
   "source": [
    "## Determining the number of clusters"
   ]
  },
  {
   "cell_type": "markdown",
   "id": "58fb9ee1",
   "metadata": {},
   "source": [
    "### Elbow method"
   ]
  },
  {
   "cell_type": "code",
   "execution_count": 19,
   "id": "33e16f11",
   "metadata": {},
   "outputs": [
    {
     "data": {
      "image/png": "[encoded data removed]",
      "text/plain": [
       "<Figure size 432x288 with 1 Axes>"
      ]
     },
     "metadata": {
      "needs_background": "light"
     },
     "output_type": "display_data"
    },
    {
     "name": "stdout",
     "output_type": "stream",
     "text": [
      "clusters: 3\n"
     ]
    }
   ],
   "source": [
    "last = data_linkage[-10:, 2]\n",
    "last_rev = last[::-1]\n",
    "idxs = np.arange(1, len(last) + 1)\n",
    "plt.plot(idxs, last_rev)\n",
    "\n",
    "acceleration = np.diff(last, 2)  \n",
    "acceleration_rev = acceleration[::-1]\n",
    "plt.plot(idxs[:-2] + 1, acceleration_rev)\n",
    "plt.title('Elbow method')\n",
    "plt.xlabel('Number of Clusters')\n",
    "plt.ylabel('WCSS')\n",
    "plt.show()\n",
    "\n",
    "k = acceleration_rev.argmax()+ 2 \n",
    "print(\"clusters:\", k)"
   ]
  },
  {
   "cell_type": "code",
   "execution_count": 20,
   "id": "fd9d5ee8",
   "metadata": {
    "scrolled": true
   },
   "outputs": [
    {
     "name": "stderr",
     "output_type": "stream",
     "text": [
      "C:\\Users\\Public\\Anaconda3\\lib\\site-packages\\sklearn\\cluster\\_kmeans.py:1039: UserWarning: KMeans is known to have a memory leak on Windows with MKL, when there are less chunks than available threads. You can avoid it by setting the environment variable OMP_NUM_THREADS=1.\n",
      "  warnings.warn(\n"
     ]
    },
    {
     "data": {
      "image/png": "[encoded data removed]",
      "text/plain": [
       "<Figure size 432x288 with 1 Axes>"
      ]
     },
     "metadata": {
      "needs_background": "light"
     },
     "output_type": "display_data"
    }
   ],
   "source": [
    "kmeans_models = [KMeans(n_clusters=k, random_state=23).fit(donald_pca) for k in range (1, 10)]\n",
    "innertia = [model.inertia_ for model in kmeans_models]\n",
    "\n",
    "plt.plot(range(1, 10), innertia)\n",
    "plt.title('Elbow method')\n",
    "plt.xlabel('Number of Clusters')\n",
    "plt.ylabel('WCSS')\n",
    "plt.show()"
   ]
  },
  {
   "cell_type": "markdown",
   "id": "43fc9a07",
   "metadata": {},
   "source": [
    "The best number of clusters is selected in the point where two lines (blue and orange lines in the picture above) are the most close to each other. Here we should stick to 3 clusters."
   ]
  },
  {
   "cell_type": "markdown",
   "id": "4dec29fb",
   "metadata": {},
   "source": [
    "### Silhouette coefficient"
   ]
  },
  {
   "cell_type": "code",
   "execution_count": 21,
   "id": "da17c034",
   "metadata": {},
   "outputs": [
    {
     "data": {
      "image/png": "[encoded data removed]",
      "text/plain": [
       "<Figure size 432x288 with 1 Axes>"
      ]
     },
     "metadata": {
      "needs_background": "light"
     },
     "output_type": "display_data"
    }
   ],
   "source": [
    "from sklearn.metrics import silhouette_score\n",
    "\n",
    "silhoutte_scores = [silhouette_score(donald_pca, model.labels_) for model in kmeans_models[5:8]]\n",
    "plt.plot(range(2,5), silhoutte_scores, \"bo-\")\n",
    "plt.xticks([0,1,2,3,4])\n",
    "plt.title('Silhoutte scores vs Number of clusters')\n",
    "plt.xlabel('Number of clusters')\n",
    "plt.ylabel('Silhoutte score')\n",
    "plt.show()"
   ]
  },
  {
   "cell_type": "code",
   "execution_count": 22,
   "id": "ff35f9b2",
   "metadata": {},
   "outputs": [
    {
     "name": "stdout",
     "output_type": "stream",
     "text": [
      "For n_clusters = 2, The Silhouette Coefficient is 0.48457964904822876\n",
      "For n_clusters = 3, The Silhouette Coefficient is 0.501786378694421\n",
      "For n_clusters = 4, The Silhouette Coefficient is 0.47084989080080586\n",
      "For n_clusters = 5, The Silhouette Coefficient is 0.4369901445936506\n",
      "For n_clusters = 6, The Silhouette Coefficient is 0.44012504936989333\n",
      "For n_clusters = 7, The Silhouette Coefficient is 0.400453239205691\n",
      "For n_clusters = 8, The Silhouette Coefficient is 0.3233661370562024\n",
      "For n_clusters = 9, The Silhouette Coefficient is 0.32808396185736155\n",
      "For n_clusters = 10, The Silhouette Coefficient is 0.3713389548007312\n"
     ]
    }
   ],
   "source": [
    "# determine the number of clusters using the K-means method\n",
    "for n_cluster in range (2, 11):\n",
    "    kmeans = KMeans (n_clusters = n_cluster) .fit (donald_pca)\n",
    "    label = kmeans.labels_\n",
    "    sil_coeff = silhouette_score (donald_pca, label, metric = 'euclidean')\n",
    "    print (\"For n_clusters = {}, The Silhouette Coefficient is {}\". format (n_cluster, sil_coeff))"
   ]
  },
  {
   "cell_type": "markdown",
   "id": "2e7501b3",
   "metadata": {},
   "source": [
    "According to the Silhouette coefficient we should stick to 3 clusters."
   ]
  },
  {
   "cell_type": "markdown",
   "id": "50c8b090",
   "metadata": {},
   "source": [
    "## Clustering "
   ]
  },
  {
   "cell_type": "markdown",
   "id": "982fd677",
   "metadata": {},
   "source": [
    "### Clustering with K-means"
   ]
  },
  {
   "cell_type": "code",
   "execution_count": 23,
   "id": "74c860ce",
   "metadata": {},
   "outputs": [],
   "source": [
    "# build clustering using the KMeans method\n",
    "km = KMeans(n_clusters = 3).fit(donald_pca)"
   ]
  },
  {
   "cell_type": "code",
   "execution_count": 24,
   "id": "a23adc52",
   "metadata": {},
   "outputs": [
    {
     "data": {
      "text/plain": [
       "array([1, 2, 1, 2, 1, 2, 1, 2, 3, 1, 1, 1, 2, 1, 2, 1, 3, 1, 1, 2, 2, 1,\n",
       "       2, 2, 2, 2, 2, 2, 1, 1, 1, 2, 3, 2, 2, 2, 2, 2, 1, 3, 1, 2, 1, 1,\n",
       "       2, 1, 2, 2, 2, 2, 2])"
      ]
     },
     "execution_count": 24,
     "metadata": {},
     "output_type": "execute_result"
    }
   ],
   "source": [
    "# display the resulting distribution by clusters\n",
    "# also the number of the cluster to which the string belongs\n",
    "clustersKmean = km.labels_ + 1\n",
    "clustersKmean"
   ]
  },
  {
   "cell_type": "code",
   "execution_count": 25,
   "id": "1f859e9f",
   "metadata": {},
   "outputs": [
    {
     "data": {
      "image/png": "[encoded data removed]",
      "text/plain": [
       "<Figure size 720x432 with 1 Axes>"
      ]
     },
     "metadata": {
      "needs_background": "light"
     },
     "output_type": "display_data"
    }
   ],
   "source": [
    "#Lets visialize the clusters\n",
    "donald_df['cluster_id'] = km.labels_\n",
    "for col in columns:\n",
    "    donald_df[col] = np.exp(donald_df[col])\n",
    "    \n",
    "plt.figure(figsize=(10,6))\n",
    "sns.scatterplot(data=donald_df, x='likes', y='user_followers_count', hue='cluster_id')\n",
    "plt.show()"
   ]
  },
  {
   "cell_type": "code",
   "execution_count": 26,
   "id": "db66ffaf",
   "metadata": {},
   "outputs": [],
   "source": [
    "# add cluster numbers to the original data\n",
    "dataK = donald_df\n",
    "dataK['group_no'] = clustersKmean"
   ]
  },
  {
   "cell_type": "code",
   "execution_count": 27,
   "id": "c88748da",
   "metadata": {},
   "outputs": [],
   "source": [
    "# Creating a new file with clusters\n",
    "writer = pd.ExcelWriter('donald_df_for_clust.xlsx')\n",
    "dataK.to_excel(writer, 'KMeans')\n",
    "writer.save()"
   ]
  },
  {
   "cell_type": "markdown",
   "id": "fe37866f",
   "metadata": {},
   "source": [
    "### Hierarchical clustering and dendrogram"
   ]
  },
  {
   "cell_type": "code",
   "execution_count": 28,
   "id": "1608e24e",
   "metadata": {},
   "outputs": [
    {
     "data": {
      "text/plain": [
       "<matplotlib.lines.Line2D at 0x21e9a6bc130>"
      ]
     },
     "execution_count": 28,
     "metadata": {},
     "output_type": "execute_result"
    },
    {
     "data": {
      "image/png": "[encoded data removed]",
      "text/plain": [
       "<Figure size 720x504 with 1 Axes>"
      ]
     },
     "metadata": {
      "needs_background": "light"
     },
     "output_type": "display_data"
    }
   ],
   "source": [
    "import scipy.cluster.hierarchy as shc\n",
    "plt.figure(figsize=(10, 7))  \n",
    "plt.title(\"Dendrogram - Donald Trump\")  \n",
    "dend = shc.dendrogram(shc.linkage(donald_pca, method='ward'))\n",
    "plt.axhline(y=4, color='r', linestyle='--')"
   ]
  },
  {
   "cell_type": "markdown",
   "id": "ed85d206",
   "metadata": {},
   "source": [
    "From hierarchical clustering we also see that the best number of clusters is equal to 3."
   ]
  },
  {
   "cell_type": "code",
   "execution_count": 29,
   "id": "9720d3ef",
   "metadata": {},
   "outputs": [
    {
     "data": {
      "text/plain": [
       "array([1, 0, 1, 0, 1, 0, 1, 0, 2, 1, 1, 1, 0, 1, 0, 1, 2, 1, 1, 0, 0, 1,\n",
       "       0, 0, 0, 0, 0, 0, 1, 0, 1, 0, 2, 0, 0, 0, 0, 0, 1, 2, 1, 0, 1, 1,\n",
       "       0, 1, 0, 0, 0, 0, 0], dtype=int64)"
      ]
     },
     "execution_count": 29,
     "metadata": {},
     "output_type": "execute_result"
    }
   ],
   "source": [
    "from sklearn.cluster import AgglomerativeClustering\n",
    "cluster = AgglomerativeClustering(n_clusters=3, affinity='euclidean', linkage='ward')  \n",
    "cluster.fit_predict(donald_pca)"
   ]
  },
  {
   "cell_type": "code",
   "execution_count": 30,
   "id": "29d9b4b8",
   "metadata": {},
   "outputs": [
    {
     "data": {
      "text/plain": [
       "<matplotlib.collections.PathCollection at 0x21e9a6060a0>"
      ]
     },
     "execution_count": 30,
     "metadata": {},
     "output_type": "execute_result"
    },
    {
     "data": {
      "image/png": "[encoded data removed]",
      "text/plain": [
       "<Figure size 720x504 with 1 Axes>"
      ]
     },
     "metadata": {
      "needs_background": "light"
     },
     "output_type": "display_data"
    }
   ],
   "source": [
    "plt.figure(figsize=(10, 7))  \n",
    "plt.scatter(donald_df['likes'], donald_df['user_followers_count'], c=cluster.labels_) "
   ]
  },
  {
   "cell_type": "markdown",
   "id": "9d614491",
   "metadata": {},
   "source": [
    "Although the clusters of some points differ from the results got after K-means clustering, the pattern is the same."
   ]
  },
  {
   "cell_type": "code",
   "execution_count": null,
   "id": "1a57daf8",
   "metadata": {},
   "outputs": [],
   "source": []
  },
  {
   "cell_type": "markdown",
   "id": "efd85737",
   "metadata": {},
   "source": [
    "# Joe Biden (clustering)"
   ]
  },
  {
   "cell_type": "markdown",
   "id": "fb3982e4",
   "metadata": {},
   "source": [
    "## Data exploration"
   ]
  },
  {
   "cell_type": "code",
   "execution_count": 31,
   "id": "236e7323",
   "metadata": {},
   "outputs": [
    {
     "name": "stdout",
     "output_type": "stream",
     "text": [
      "Dimension of array:(51, 7)\n"
     ]
    },
    {
     "data": {
      "text/html": [
       "<div>\n",
       "<style scoped>\n",
       "    .dataframe tbody tr th:only-of-type {\n",
       "        vertical-align: middle;\n",
       "    }\n",
       "\n",
       "    .dataframe tbody tr th {\n",
       "        vertical-align: top;\n",
       "    }\n",
       "\n",
       "    .dataframe thead th {\n",
       "        text-align: right;\n",
       "    }\n",
       "</style>\n",
       "<table border=\"1\" class=\"dataframe\">\n",
       "  <thead>\n",
       "    <tr style=\"text-align: right;\">\n",
       "      <th></th>\n",
       "      <th>STATE_NAME</th>\n",
       "      <th>likes</th>\n",
       "      <th>retweet_count</th>\n",
       "      <th>user_followers_count</th>\n",
       "      <th>TextBlob_Subjectivity</th>\n",
       "      <th>TextBlob_Polarity</th>\n",
       "    </tr>\n",
       "  </thead>\n",
       "  <tbody>\n",
       "    <tr>\n",
       "      <th>0</th>\n",
       "      <td>Alabama</td>\n",
       "      <td>3.395514</td>\n",
       "      <td>0.759150</td>\n",
       "      <td>6022.579693</td>\n",
       "      <td>0.356253</td>\n",
       "      <td>0.078854</td>\n",
       "    </tr>\n",
       "    <tr>\n",
       "      <th>1</th>\n",
       "      <td>Alaska</td>\n",
       "      <td>1.160656</td>\n",
       "      <td>0.252459</td>\n",
       "      <td>3501.511475</td>\n",
       "      <td>0.346078</td>\n",
       "      <td>0.065971</td>\n",
       "    </tr>\n",
       "    <tr>\n",
       "      <th>2</th>\n",
       "      <td>Arizona</td>\n",
       "      <td>3.622688</td>\n",
       "      <td>0.937522</td>\n",
       "      <td>3226.875393</td>\n",
       "      <td>0.336977</td>\n",
       "      <td>0.054392</td>\n",
       "    </tr>\n",
       "    <tr>\n",
       "      <th>3</th>\n",
       "      <td>Arkansas</td>\n",
       "      <td>1.164763</td>\n",
       "      <td>0.251223</td>\n",
       "      <td>1034.484502</td>\n",
       "      <td>0.306879</td>\n",
       "      <td>0.042399</td>\n",
       "    </tr>\n",
       "    <tr>\n",
       "      <th>4</th>\n",
       "      <td>California</td>\n",
       "      <td>5.054170</td>\n",
       "      <td>1.311086</td>\n",
       "      <td>7302.158661</td>\n",
       "      <td>0.324595</td>\n",
       "      <td>0.042585</td>\n",
       "    </tr>\n",
       "    <tr>\n",
       "      <th>5</th>\n",
       "      <td>Colorado</td>\n",
       "      <td>1.427861</td>\n",
       "      <td>0.349917</td>\n",
       "      <td>3484.702598</td>\n",
       "      <td>0.338561</td>\n",
       "      <td>0.032250</td>\n",
       "    </tr>\n",
       "    <tr>\n",
       "      <th>6</th>\n",
       "      <td>Connecticut</td>\n",
       "      <td>6.236635</td>\n",
       "      <td>2.595968</td>\n",
       "      <td>3952.455741</td>\n",
       "      <td>0.284664</td>\n",
       "      <td>0.044485</td>\n",
       "    </tr>\n",
       "    <tr>\n",
       "      <th>7</th>\n",
       "      <td>Delaware</td>\n",
       "      <td>0.612245</td>\n",
       "      <td>0.134694</td>\n",
       "      <td>1614.330612</td>\n",
       "      <td>0.225753</td>\n",
       "      <td>0.014957</td>\n",
       "    </tr>\n",
       "    <tr>\n",
       "      <th>8</th>\n",
       "      <td>District of Columbia</td>\n",
       "      <td>37.077868</td>\n",
       "      <td>8.479700</td>\n",
       "      <td>21396.684676</td>\n",
       "      <td>0.308389</td>\n",
       "      <td>0.046990</td>\n",
       "    </tr>\n",
       "    <tr>\n",
       "      <th>9</th>\n",
       "      <td>Florida</td>\n",
       "      <td>3.248265</td>\n",
       "      <td>1.124550</td>\n",
       "      <td>32686.844859</td>\n",
       "      <td>0.308331</td>\n",
       "      <td>0.060683</td>\n",
       "    </tr>\n",
       "    <tr>\n",
       "      <th>10</th>\n",
       "      <td>Georgia</td>\n",
       "      <td>4.212796</td>\n",
       "      <td>1.022601</td>\n",
       "      <td>12315.285814</td>\n",
       "      <td>0.318664</td>\n",
       "      <td>0.069333</td>\n",
       "    </tr>\n",
       "    <tr>\n",
       "      <th>11</th>\n",
       "      <td>Hawaii</td>\n",
       "      <td>3.313901</td>\n",
       "      <td>0.568012</td>\n",
       "      <td>9458.841555</td>\n",
       "      <td>0.341948</td>\n",
       "      <td>0.041028</td>\n",
       "    </tr>\n",
       "    <tr>\n",
       "      <th>12</th>\n",
       "      <td>Idaho</td>\n",
       "      <td>1.057566</td>\n",
       "      <td>0.220395</td>\n",
       "      <td>2316.804276</td>\n",
       "      <td>0.375713</td>\n",
       "      <td>0.037282</td>\n",
       "    </tr>\n",
       "    <tr>\n",
       "      <th>13</th>\n",
       "      <td>Illinois</td>\n",
       "      <td>3.344505</td>\n",
       "      <td>0.872015</td>\n",
       "      <td>7023.822631</td>\n",
       "      <td>0.336689</td>\n",
       "      <td>0.041336</td>\n",
       "    </tr>\n",
       "    <tr>\n",
       "      <th>14</th>\n",
       "      <td>Indiana</td>\n",
       "      <td>1.777918</td>\n",
       "      <td>0.423975</td>\n",
       "      <td>1447.894637</td>\n",
       "      <td>0.399594</td>\n",
       "      <td>0.026929</td>\n",
       "    </tr>\n",
       "    <tr>\n",
       "      <th>15</th>\n",
       "      <td>Iowa</td>\n",
       "      <td>2.963636</td>\n",
       "      <td>1.123864</td>\n",
       "      <td>6337.639773</td>\n",
       "      <td>0.333185</td>\n",
       "      <td>0.050682</td>\n",
       "    </tr>\n",
       "    <tr>\n",
       "      <th>16</th>\n",
       "      <td>Kansas</td>\n",
       "      <td>13.367757</td>\n",
       "      <td>3.332464</td>\n",
       "      <td>15102.012615</td>\n",
       "      <td>0.318934</td>\n",
       "      <td>0.055839</td>\n",
       "    </tr>\n",
       "    <tr>\n",
       "      <th>17</th>\n",
       "      <td>Kentucky</td>\n",
       "      <td>5.516846</td>\n",
       "      <td>2.737197</td>\n",
       "      <td>6454.987197</td>\n",
       "      <td>0.329601</td>\n",
       "      <td>0.079567</td>\n",
       "    </tr>\n",
       "    <tr>\n",
       "      <th>18</th>\n",
       "      <td>Louisiana</td>\n",
       "      <td>6.083556</td>\n",
       "      <td>0.879111</td>\n",
       "      <td>5228.981333</td>\n",
       "      <td>0.344424</td>\n",
       "      <td>0.061236</td>\n",
       "    </tr>\n",
       "    <tr>\n",
       "      <th>19</th>\n",
       "      <td>Maine</td>\n",
       "      <td>1.719388</td>\n",
       "      <td>0.298469</td>\n",
       "      <td>2064.352041</td>\n",
       "      <td>0.344380</td>\n",
       "      <td>0.055915</td>\n",
       "    </tr>\n",
       "    <tr>\n",
       "      <th>20</th>\n",
       "      <td>Maryland</td>\n",
       "      <td>1.719290</td>\n",
       "      <td>0.470953</td>\n",
       "      <td>2065.625277</td>\n",
       "      <td>0.360776</td>\n",
       "      <td>0.043433</td>\n",
       "    </tr>\n",
       "    <tr>\n",
       "      <th>21</th>\n",
       "      <td>Massachusetts</td>\n",
       "      <td>1.942336</td>\n",
       "      <td>0.684969</td>\n",
       "      <td>5370.614586</td>\n",
       "      <td>0.362495</td>\n",
       "      <td>0.047273</td>\n",
       "    </tr>\n",
       "    <tr>\n",
       "      <th>22</th>\n",
       "      <td>Michigan</td>\n",
       "      <td>1.915271</td>\n",
       "      <td>0.491954</td>\n",
       "      <td>2516.354680</td>\n",
       "      <td>0.364994</td>\n",
       "      <td>0.058745</td>\n",
       "    </tr>\n",
       "    <tr>\n",
       "      <th>23</th>\n",
       "      <td>Minnesota</td>\n",
       "      <td>2.058210</td>\n",
       "      <td>0.459638</td>\n",
       "      <td>2129.412411</td>\n",
       "      <td>0.359060</td>\n",
       "      <td>0.035252</td>\n",
       "    </tr>\n",
       "    <tr>\n",
       "      <th>24</th>\n",
       "      <td>Mississippi</td>\n",
       "      <td>2.427136</td>\n",
       "      <td>0.768844</td>\n",
       "      <td>750.613065</td>\n",
       "      <td>0.341687</td>\n",
       "      <td>0.046917</td>\n",
       "    </tr>\n",
       "    <tr>\n",
       "      <th>25</th>\n",
       "      <td>Missouri</td>\n",
       "      <td>1.089883</td>\n",
       "      <td>0.276162</td>\n",
       "      <td>2329.632219</td>\n",
       "      <td>0.332918</td>\n",
       "      <td>0.037155</td>\n",
       "    </tr>\n",
       "    <tr>\n",
       "      <th>26</th>\n",
       "      <td>Montana</td>\n",
       "      <td>0.913295</td>\n",
       "      <td>0.150289</td>\n",
       "      <td>1687.127168</td>\n",
       "      <td>0.340116</td>\n",
       "      <td>0.038944</td>\n",
       "    </tr>\n",
       "    <tr>\n",
       "      <th>27</th>\n",
       "      <td>Nebraska</td>\n",
       "      <td>2.543147</td>\n",
       "      <td>0.360406</td>\n",
       "      <td>2942.081218</td>\n",
       "      <td>0.333464</td>\n",
       "      <td>0.069142</td>\n",
       "    </tr>\n",
       "    <tr>\n",
       "      <th>28</th>\n",
       "      <td>Nevada</td>\n",
       "      <td>3.616834</td>\n",
       "      <td>1.154941</td>\n",
       "      <td>9086.584590</td>\n",
       "      <td>0.340793</td>\n",
       "      <td>0.057283</td>\n",
       "    </tr>\n",
       "    <tr>\n",
       "      <th>29</th>\n",
       "      <td>New Hampshire</td>\n",
       "      <td>2.827206</td>\n",
       "      <td>0.981618</td>\n",
       "      <td>3266.680147</td>\n",
       "      <td>0.300487</td>\n",
       "      <td>0.053028</td>\n",
       "    </tr>\n",
       "    <tr>\n",
       "      <th>30</th>\n",
       "      <td>New Jersey</td>\n",
       "      <td>5.796419</td>\n",
       "      <td>1.632871</td>\n",
       "      <td>9006.238785</td>\n",
       "      <td>0.323754</td>\n",
       "      <td>0.044170</td>\n",
       "    </tr>\n",
       "    <tr>\n",
       "      <th>31</th>\n",
       "      <td>New Mexico</td>\n",
       "      <td>1.165339</td>\n",
       "      <td>0.336653</td>\n",
       "      <td>2861.737052</td>\n",
       "      <td>0.300257</td>\n",
       "      <td>0.043524</td>\n",
       "    </tr>\n",
       "    <tr>\n",
       "      <th>32</th>\n",
       "      <td>New York</td>\n",
       "      <td>27.857721</td>\n",
       "      <td>6.547397</td>\n",
       "      <td>12947.662021</td>\n",
       "      <td>0.327546</td>\n",
       "      <td>0.050217</td>\n",
       "    </tr>\n",
       "    <tr>\n",
       "      <th>33</th>\n",
       "      <td>North Carolina</td>\n",
       "      <td>2.961992</td>\n",
       "      <td>0.876252</td>\n",
       "      <td>2359.232174</td>\n",
       "      <td>0.334483</td>\n",
       "      <td>0.051935</td>\n",
       "    </tr>\n",
       "    <tr>\n",
       "      <th>34</th>\n",
       "      <td>North Dakota</td>\n",
       "      <td>1.238095</td>\n",
       "      <td>0.229814</td>\n",
       "      <td>841.151139</td>\n",
       "      <td>0.319822</td>\n",
       "      <td>0.074108</td>\n",
       "    </tr>\n",
       "    <tr>\n",
       "      <th>35</th>\n",
       "      <td>Ohio</td>\n",
       "      <td>1.738622</td>\n",
       "      <td>0.405982</td>\n",
       "      <td>1854.284525</td>\n",
       "      <td>0.338754</td>\n",
       "      <td>0.051054</td>\n",
       "    </tr>\n",
       "    <tr>\n",
       "      <th>36</th>\n",
       "      <td>Oklahoma</td>\n",
       "      <td>1.531287</td>\n",
       "      <td>0.584416</td>\n",
       "      <td>2467.821724</td>\n",
       "      <td>0.343047</td>\n",
       "      <td>0.054294</td>\n",
       "    </tr>\n",
       "    <tr>\n",
       "      <th>37</th>\n",
       "      <td>Oregon</td>\n",
       "      <td>1.014479</td>\n",
       "      <td>0.417632</td>\n",
       "      <td>1618.178893</td>\n",
       "      <td>0.365900</td>\n",
       "      <td>0.033538</td>\n",
       "    </tr>\n",
       "    <tr>\n",
       "      <th>38</th>\n",
       "      <td>Pennsylvania</td>\n",
       "      <td>4.035658</td>\n",
       "      <td>0.918699</td>\n",
       "      <td>3876.440593</td>\n",
       "      <td>0.359719</td>\n",
       "      <td>0.042886</td>\n",
       "    </tr>\n",
       "    <tr>\n",
       "      <th>39</th>\n",
       "      <td>Rhode Island</td>\n",
       "      <td>21.476923</td>\n",
       "      <td>9.311538</td>\n",
       "      <td>10203.511538</td>\n",
       "      <td>0.308590</td>\n",
       "      <td>0.036686</td>\n",
       "    </tr>\n",
       "    <tr>\n",
       "      <th>40</th>\n",
       "      <td>South Carolina</td>\n",
       "      <td>8.403670</td>\n",
       "      <td>2.351376</td>\n",
       "      <td>4655.686239</td>\n",
       "      <td>0.317717</td>\n",
       "      <td>0.040044</td>\n",
       "    </tr>\n",
       "    <tr>\n",
       "      <th>41</th>\n",
       "      <td>South Dakota</td>\n",
       "      <td>0.533333</td>\n",
       "      <td>0.053333</td>\n",
       "      <td>371.880000</td>\n",
       "      <td>0.304348</td>\n",
       "      <td>0.036539</td>\n",
       "    </tr>\n",
       "    <tr>\n",
       "      <th>42</th>\n",
       "      <td>Tennessee</td>\n",
       "      <td>4.727474</td>\n",
       "      <td>1.490901</td>\n",
       "      <td>3497.019530</td>\n",
       "      <td>0.332984</td>\n",
       "      <td>0.058325</td>\n",
       "    </tr>\n",
       "    <tr>\n",
       "      <th>43</th>\n",
       "      <td>Texas</td>\n",
       "      <td>4.640923</td>\n",
       "      <td>1.826837</td>\n",
       "      <td>4365.667760</td>\n",
       "      <td>0.324288</td>\n",
       "      <td>0.043267</td>\n",
       "    </tr>\n",
       "    <tr>\n",
       "      <th>44</th>\n",
       "      <td>Utah</td>\n",
       "      <td>0.972737</td>\n",
       "      <td>0.171210</td>\n",
       "      <td>2572.305344</td>\n",
       "      <td>0.283449</td>\n",
       "      <td>0.056988</td>\n",
       "    </tr>\n",
       "    <tr>\n",
       "      <th>45</th>\n",
       "      <td>Vermont</td>\n",
       "      <td>1.393839</td>\n",
       "      <td>0.240924</td>\n",
       "      <td>7417.658966</td>\n",
       "      <td>0.396491</td>\n",
       "      <td>0.018958</td>\n",
       "    </tr>\n",
       "    <tr>\n",
       "      <th>46</th>\n",
       "      <td>Virginia</td>\n",
       "      <td>2.588793</td>\n",
       "      <td>0.740832</td>\n",
       "      <td>3171.067161</td>\n",
       "      <td>0.333210</td>\n",
       "      <td>0.055268</td>\n",
       "    </tr>\n",
       "    <tr>\n",
       "      <th>47</th>\n",
       "      <td>Washington</td>\n",
       "      <td>1.204765</td>\n",
       "      <td>0.347357</td>\n",
       "      <td>2139.715190</td>\n",
       "      <td>0.363903</td>\n",
       "      <td>0.074701</td>\n",
       "    </tr>\n",
       "    <tr>\n",
       "      <th>48</th>\n",
       "      <td>West Virginia</td>\n",
       "      <td>3.350000</td>\n",
       "      <td>0.870000</td>\n",
       "      <td>1611.943333</td>\n",
       "      <td>0.332108</td>\n",
       "      <td>0.061214</td>\n",
       "    </tr>\n",
       "    <tr>\n",
       "      <th>49</th>\n",
       "      <td>Wisconsin</td>\n",
       "      <td>2.197021</td>\n",
       "      <td>0.576845</td>\n",
       "      <td>1608.441435</td>\n",
       "      <td>0.340867</td>\n",
       "      <td>0.049280</td>\n",
       "    </tr>\n",
       "    <tr>\n",
       "      <th>50</th>\n",
       "      <td>Wyoming</td>\n",
       "      <td>1.044610</td>\n",
       "      <td>0.167286</td>\n",
       "      <td>709.661710</td>\n",
       "      <td>0.355994</td>\n",
       "      <td>0.066072</td>\n",
       "    </tr>\n",
       "  </tbody>\n",
       "</table>\n",
       "</div>"
      ],
      "text/plain": [
       "              STATE_NAME      likes  retweet_count  user_followers_count  \\\n",
       "0                Alabama   3.395514       0.759150           6022.579693   \n",
       "1                 Alaska   1.160656       0.252459           3501.511475   \n",
       "2                Arizona   3.622688       0.937522           3226.875393   \n",
       "3               Arkansas   1.164763       0.251223           1034.484502   \n",
       "4             California   5.054170       1.311086           7302.158661   \n",
       "5               Colorado   1.427861       0.349917           3484.702598   \n",
       "6            Connecticut   6.236635       2.595968           3952.455741   \n",
       "7               Delaware   0.612245       0.134694           1614.330612   \n",
       "8   District of Columbia  37.077868       8.479700          21396.684676   \n",
       "9                Florida   3.248265       1.124550          32686.844859   \n",
       "10               Georgia   4.212796       1.022601          12315.285814   \n",
       "11                Hawaii   3.313901       0.568012           9458.841555   \n",
       "12                 Idaho   1.057566       0.220395           2316.804276   \n",
       "13              Illinois   3.344505       0.872015           7023.822631   \n",
       "14               Indiana   1.777918       0.423975           1447.894637   \n",
       "15                  Iowa   2.963636       1.123864           6337.639773   \n",
       "16                Kansas  13.367757       3.332464          15102.012615   \n",
       "17              Kentucky   5.516846       2.737197           6454.987197   \n",
       "18             Louisiana   6.083556       0.879111           5228.981333   \n",
       "19                 Maine   1.719388       0.298469           2064.352041   \n",
       "20              Maryland   1.719290       0.470953           2065.625277   \n",
       "21         Massachusetts   1.942336       0.684969           5370.614586   \n",
       "22              Michigan   1.915271       0.491954           2516.354680   \n",
       "23             Minnesota   2.058210       0.459638           2129.412411   \n",
       "24           Mississippi   2.427136       0.768844            750.613065   \n",
       "25              Missouri   1.089883       0.276162           2329.632219   \n",
       "26               Montana   0.913295       0.150289           1687.127168   \n",
       "27              Nebraska   2.543147       0.360406           2942.081218   \n",
       "28                Nevada   3.616834       1.154941           9086.584590   \n",
       "29         New Hampshire   2.827206       0.981618           3266.680147   \n",
       "30            New Jersey   5.796419       1.632871           9006.238785   \n",
       "31            New Mexico   1.165339       0.336653           2861.737052   \n",
       "32              New York  27.857721       6.547397          12947.662021   \n",
       "33        North Carolina   2.961992       0.876252           2359.232174   \n",
       "34          North Dakota   1.238095       0.229814            841.151139   \n",
       "35                  Ohio   1.738622       0.405982           1854.284525   \n",
       "36              Oklahoma   1.531287       0.584416           2467.821724   \n",
       "37                Oregon   1.014479       0.417632           1618.178893   \n",
       "38          Pennsylvania   4.035658       0.918699           3876.440593   \n",
       "39          Rhode Island  21.476923       9.311538          10203.511538   \n",
       "40        South Carolina   8.403670       2.351376           4655.686239   \n",
       "41          South Dakota   0.533333       0.053333            371.880000   \n",
       "42             Tennessee   4.727474       1.490901           3497.019530   \n",
       "43                 Texas   4.640923       1.826837           4365.667760   \n",
       "44                  Utah   0.972737       0.171210           2572.305344   \n",
       "45               Vermont   1.393839       0.240924           7417.658966   \n",
       "46              Virginia   2.588793       0.740832           3171.067161   \n",
       "47            Washington   1.204765       0.347357           2139.715190   \n",
       "48         West Virginia   3.350000       0.870000           1611.943333   \n",
       "49             Wisconsin   2.197021       0.576845           1608.441435   \n",
       "50               Wyoming   1.044610       0.167286            709.661710   \n",
       "\n",
       "    TextBlob_Subjectivity  TextBlob_Polarity  \n",
       "0                0.356253           0.078854  \n",
       "1                0.346078           0.065971  \n",
       "2                0.336977           0.054392  \n",
       "3                0.306879           0.042399  \n",
       "4                0.324595           0.042585  \n",
       "5                0.338561           0.032250  \n",
       "6                0.284664           0.044485  \n",
       "7                0.225753           0.014957  \n",
       "8                0.308389           0.046990  \n",
       "9                0.308331           0.060683  \n",
       "10               0.318664           0.069333  \n",
       "11               0.341948           0.041028  \n",
       "12               0.375713           0.037282  \n",
       "13               0.336689           0.041336  \n",
       "14               0.399594           0.026929  \n",
       "15               0.333185           0.050682  \n",
       "16               0.318934           0.055839  \n",
       "17               0.329601           0.079567  \n",
       "18               0.344424           0.061236  \n",
       "19               0.344380           0.055915  \n",
       "20               0.360776           0.043433  \n",
       "21               0.362495           0.047273  \n",
       "22               0.364994           0.058745  \n",
       "23               0.359060           0.035252  \n",
       "24               0.341687           0.046917  \n",
       "25               0.332918           0.037155  \n",
       "26               0.340116           0.038944  \n",
       "27               0.333464           0.069142  \n",
       "28               0.340793           0.057283  \n",
       "29               0.300487           0.053028  \n",
       "30               0.323754           0.044170  \n",
       "31               0.300257           0.043524  \n",
       "32               0.327546           0.050217  \n",
       "33               0.334483           0.051935  \n",
       "34               0.319822           0.074108  \n",
       "35               0.338754           0.051054  \n",
       "36               0.343047           0.054294  \n",
       "37               0.365900           0.033538  \n",
       "38               0.359719           0.042886  \n",
       "39               0.308590           0.036686  \n",
       "40               0.317717           0.040044  \n",
       "41               0.304348           0.036539  \n",
       "42               0.332984           0.058325  \n",
       "43               0.324288           0.043267  \n",
       "44               0.283449           0.056988  \n",
       "45               0.396491           0.018958  \n",
       "46               0.333210           0.055268  \n",
       "47               0.363903           0.074701  \n",
       "48               0.332108           0.061214  \n",
       "49               0.340867           0.049280  \n",
       "50               0.355994           0.066072  "
      ]
     },
     "execution_count": 31,
     "metadata": {},
     "output_type": "execute_result"
    }
   ],
   "source": [
    "# upload dataset Donuld Trump\n",
    "joe_df = pd.read_csv('States_joe_mined.csv')\n",
    "print('Dimension of array:{}'.format(donald_df.shape))\n",
    "joe_df"
   ]
  },
  {
   "cell_type": "code",
   "execution_count": 32,
   "id": "0901341f",
   "metadata": {},
   "outputs": [
    {
     "data": {
      "text/html": [
       "<div>\n",
       "<style scoped>\n",
       "    .dataframe tbody tr th:only-of-type {\n",
       "        vertical-align: middle;\n",
       "    }\n",
       "\n",
       "    .dataframe tbody tr th {\n",
       "        vertical-align: top;\n",
       "    }\n",
       "\n",
       "    .dataframe thead th {\n",
       "        text-align: right;\n",
       "    }\n",
       "</style>\n",
       "<table border=\"1\" class=\"dataframe\">\n",
       "  <thead>\n",
       "    <tr style=\"text-align: right;\">\n",
       "      <th></th>\n",
       "      <th>likes</th>\n",
       "      <th>retweet_count</th>\n",
       "      <th>user_followers_count</th>\n",
       "      <th>TextBlob_Subjectivity</th>\n",
       "      <th>TextBlob_Polarity</th>\n",
       "    </tr>\n",
       "  </thead>\n",
       "  <tbody>\n",
       "    <tr>\n",
       "      <th>likes</th>\n",
       "      <td>1.000000</td>\n",
       "      <td>0.943471</td>\n",
       "      <td>0.565869</td>\n",
       "      <td>-0.203372</td>\n",
       "      <td>-0.006328</td>\n",
       "    </tr>\n",
       "    <tr>\n",
       "      <th>retweet_count</th>\n",
       "      <td>0.943471</td>\n",
       "      <td>1.000000</td>\n",
       "      <td>0.525624</td>\n",
       "      <td>-0.241366</td>\n",
       "      <td>-0.023877</td>\n",
       "    </tr>\n",
       "    <tr>\n",
       "      <th>user_followers_count</th>\n",
       "      <td>0.565869</td>\n",
       "      <td>0.525624</td>\n",
       "      <td>1.000000</td>\n",
       "      <td>-0.178058</td>\n",
       "      <td>0.113695</td>\n",
       "    </tr>\n",
       "    <tr>\n",
       "      <th>TextBlob_Subjectivity</th>\n",
       "      <td>-0.203372</td>\n",
       "      <td>-0.241366</td>\n",
       "      <td>-0.178058</td>\n",
       "      <td>1.000000</td>\n",
       "      <td>0.046481</td>\n",
       "    </tr>\n",
       "    <tr>\n",
       "      <th>TextBlob_Polarity</th>\n",
       "      <td>-0.006328</td>\n",
       "      <td>-0.023877</td>\n",
       "      <td>0.113695</td>\n",
       "      <td>0.046481</td>\n",
       "      <td>1.000000</td>\n",
       "    </tr>\n",
       "  </tbody>\n",
       "</table>\n",
       "</div>"
      ],
      "text/plain": [
       "                          likes  retweet_count  user_followers_count  \\\n",
       "likes                  1.000000       0.943471              0.565869   \n",
       "retweet_count          0.943471       1.000000              0.525624   \n",
       "user_followers_count   0.565869       0.525624              1.000000   \n",
       "TextBlob_Subjectivity -0.203372      -0.241366             -0.178058   \n",
       "TextBlob_Polarity     -0.006328      -0.023877              0.113695   \n",
       "\n",
       "                       TextBlob_Subjectivity  TextBlob_Polarity  \n",
       "likes                              -0.203372          -0.006328  \n",
       "retweet_count                      -0.241366          -0.023877  \n",
       "user_followers_count               -0.178058           0.113695  \n",
       "TextBlob_Subjectivity               1.000000           0.046481  \n",
       "TextBlob_Polarity                   0.046481           1.000000  "
      ]
     },
     "execution_count": 32,
     "metadata": {},
     "output_type": "execute_result"
    }
   ],
   "source": [
    "# let's see the presence of correlations between values \n",
    "joe_df.corr ()"
   ]
  },
  {
   "cell_type": "code",
   "execution_count": 33,
   "id": "1d068460",
   "metadata": {},
   "outputs": [
    {
     "data": {
      "text/plain": [
       "Text(0, 0.5, 'retweet_count')"
      ]
     },
     "execution_count": 33,
     "metadata": {},
     "output_type": "execute_result"
    },
    {
     "data": {
      "image/png": "[encoded data removed]",
      "text/plain": [
       "<Figure size 720x432 with 1 Axes>"
      ]
     },
     "metadata": {
      "needs_background": "light"
     },
     "output_type": "display_data"
    }
   ],
   "source": [
    "#Strong correlation can be found between 2 features: likes and retweet_count \n",
    "# scatter plots of two parameters with high correlation\n",
    "col1 = 'likes'\n",
    "col2 = 'retweet_count'\n",
    "\n",
    "plt.figure(figsize=(10, 6))\n",
    "\n",
    "plt.scatter(joe_df[col1],\n",
    "            joe_df[col2],\n",
    "            alpha=0.75,\n",
    "            color='red')\n",
    "plt.xlabel(col1)\n",
    "plt.ylabel(col2)"
   ]
  },
  {
   "cell_type": "code",
   "execution_count": 34,
   "id": "5d5c8958",
   "metadata": {},
   "outputs": [
    {
     "data": {
      "text/plain": [
       "False"
      ]
     },
     "execution_count": 34,
     "metadata": {},
     "output_type": "execute_result"
    }
   ],
   "source": [
    "joe_df.isnull().any().any()"
   ]
  },
  {
   "cell_type": "code",
   "execution_count": 35,
   "id": "ae5109f6",
   "metadata": {},
   "outputs": [
    {
     "data": {
      "text/plain": [
       "STATE_NAME                object\n",
       "likes                    float64\n",
       "retweet_count            float64\n",
       "user_followers_count     float64\n",
       "TextBlob_Subjectivity    float64\n",
       "TextBlob_Polarity        float64\n",
       "dtype: object"
      ]
     },
     "execution_count": 35,
     "metadata": {},
     "output_type": "execute_result"
    }
   ],
   "source": [
    "joe_df.dtypes"
   ]
  },
  {
   "cell_type": "code",
   "execution_count": 36,
   "id": "a441de1a",
   "metadata": {},
   "outputs": [
    {
     "name": "stdout",
     "output_type": "stream",
     "text": [
      "<class 'pandas.core.frame.DataFrame'>\n",
      "RangeIndex: 51 entries, 0 to 50\n",
      "Data columns (total 6 columns):\n",
      " #   Column                 Non-Null Count  Dtype  \n",
      "---  ------                 --------------  -----  \n",
      " 0   STATE_NAME             51 non-null     object \n",
      " 1   likes                  51 non-null     float64\n",
      " 2   retweet_count          51 non-null     float64\n",
      " 3   user_followers_count   51 non-null     float64\n",
      " 4   TextBlob_Subjectivity  51 non-null     float64\n",
      " 5   TextBlob_Polarity      51 non-null     float64\n",
      "dtypes: float64(5), object(1)\n",
      "memory usage: 2.5+ KB\n"
     ]
    }
   ],
   "source": [
    "joe_df.info()"
   ]
  },
  {
   "cell_type": "code",
   "execution_count": 37,
   "id": "fb37b65d",
   "metadata": {},
   "outputs": [
    {
     "data": {
      "image/png": "[encoded data removed]",
      "text/plain": [
       "<Figure size 1440x2520 with 5 Axes>"
      ]
     },
     "metadata": {
      "needs_background": "light"
     },
     "output_type": "display_data"
    }
   ],
   "source": [
    "#lets see data distribution to check how skewed our data\n",
    "plt.figure(figsize=(20,35))\n",
    "for i, col in enumerate(joe_df.columns):\n",
    "    if joe_df[col].dtype != 'object':\n",
    "        ax = plt.subplot(9, 2, i+1)\n",
    "        sns.kdeplot(joe_df[col], ax=ax)\n",
    "        plt.xlabel(col)\n",
    "        \n",
    "plt.show()"
   ]
  },
  {
   "cell_type": "markdown",
   "id": "fa3b4aea",
   "metadata": {},
   "source": [
    "## Data processing"
   ]
  },
  {
   "cell_type": "code",
   "execution_count": 38,
   "id": "31a711c5",
   "metadata": {},
   "outputs": [],
   "source": [
    "# Firstly we should drop the columns which are not important for clustering \n",
    "# Names of states do not influence the results of clustering\n",
    "joe_df.drop(['STATE_NAME'], axis=1, inplace=True)"
   ]
  },
  {
   "cell_type": "code",
   "execution_count": 39,
   "id": "dc28a047",
   "metadata": {},
   "outputs": [],
   "source": [
    "# lets try to to get at least a little bit better distribution\n",
    "columns = ['likes', 'retweet_count', 'user_followers_count', 'TextBlob_Subjectivity', 'TextBlob_Polarity']\n",
    "\n",
    "for col in columns:\n",
    "    joe_df[col] = np.log(1 +joe_df[col])"
   ]
  },
  {
   "cell_type": "code",
   "execution_count": 40,
   "id": "0c1bd6db",
   "metadata": {},
   "outputs": [
    {
     "data": {
      "image/png": "[encoded data removed]",
      "text/plain": [
       "<Figure size 1440x2520 with 5 Axes>"
      ]
     },
     "metadata": {
      "needs_background": "light"
     },
     "output_type": "display_data"
    }
   ],
   "source": [
    "plt.figure(figsize=(20,35))\n",
    "for i, col in enumerate(joe_df.columns):\n",
    "    if joe_df[col].dtype != 'object':\n",
    "        ax = plt.subplot(9, 2, i+1)\n",
    "        sns.kdeplot(joe_df[col], ax=ax)\n",
    "        plt.xlabel(col)\n",
    "        \n",
    "plt.show()"
   ]
  },
  {
   "cell_type": "code",
   "execution_count": 41,
   "id": "ae566967",
   "metadata": {},
   "outputs": [],
   "source": [
    "# rounding to 3 decimal\n",
    "joe_df = joe_df.round(3)"
   ]
  },
  {
   "cell_type": "code",
   "execution_count": 42,
   "id": "cbd4baa2",
   "metadata": {},
   "outputs": [
    {
     "name": "stdout",
     "output_type": "stream",
     "text": [
      "    likes  retweet_count  user_followers_count  TextBlob_Subjectivity  \\\n",
      "0   False          False                 False                  False   \n",
      "1   False          False                 False                  False   \n",
      "2   False          False                 False                  False   \n",
      "3   False          False                 False                  False   \n",
      "4   False          False                 False                  False   \n",
      "5   False          False                 False                  False   \n",
      "6   False          False                 False                  False   \n",
      "7   False          False                 False                  False   \n",
      "8   False          False                 False                  False   \n",
      "9   False          False                 False                  False   \n",
      "10  False          False                 False                  False   \n",
      "11  False          False                 False                  False   \n",
      "12  False          False                 False                  False   \n",
      "13  False          False                 False                  False   \n",
      "14  False          False                 False                  False   \n",
      "15  False          False                 False                  False   \n",
      "16  False          False                 False                  False   \n",
      "17  False          False                 False                  False   \n",
      "18  False          False                 False                  False   \n",
      "19  False          False                 False                  False   \n",
      "20  False          False                 False                  False   \n",
      "21  False          False                 False                  False   \n",
      "22  False          False                 False                  False   \n",
      "23  False          False                 False                  False   \n",
      "24  False          False                 False                  False   \n",
      "25  False          False                 False                  False   \n",
      "26  False          False                 False                  False   \n",
      "27  False          False                 False                  False   \n",
      "28  False          False                 False                  False   \n",
      "29  False          False                 False                  False   \n",
      "30  False          False                 False                  False   \n",
      "31  False          False                 False                  False   \n",
      "32  False          False                 False                  False   \n",
      "33  False          False                 False                  False   \n",
      "34  False          False                 False                  False   \n",
      "35  False          False                 False                  False   \n",
      "36  False          False                 False                  False   \n",
      "37  False          False                 False                  False   \n",
      "38  False          False                 False                  False   \n",
      "39  False          False                 False                  False   \n",
      "40  False          False                 False                  False   \n",
      "41  False          False                 False                  False   \n",
      "42  False          False                 False                  False   \n",
      "43  False          False                 False                  False   \n",
      "44  False          False                 False                  False   \n",
      "45  False          False                 False                  False   \n",
      "46  False          False                 False                  False   \n",
      "47  False          False                 False                  False   \n",
      "48  False          False                 False                  False   \n",
      "49  False          False                 False                  False   \n",
      "50  False          False                 False                  False   \n",
      "\n",
      "    TextBlob_Polarity  \n",
      "0               False  \n",
      "1               False  \n",
      "2               False  \n",
      "3               False  \n",
      "4               False  \n",
      "5               False  \n",
      "6               False  \n",
      "7               False  \n",
      "8               False  \n",
      "9               False  \n",
      "10              False  \n",
      "11              False  \n",
      "12              False  \n",
      "13              False  \n",
      "14              False  \n",
      "15              False  \n",
      "16              False  \n",
      "17              False  \n",
      "18              False  \n",
      "19              False  \n",
      "20              False  \n",
      "21              False  \n",
      "22              False  \n",
      "23              False  \n",
      "24              False  \n",
      "25              False  \n",
      "26              False  \n",
      "27              False  \n",
      "28              False  \n",
      "29              False  \n",
      "30              False  \n",
      "31              False  \n",
      "32              False  \n",
      "33              False  \n",
      "34              False  \n",
      "35              False  \n",
      "36              False  \n",
      "37              False  \n",
      "38              False  \n",
      "39              False  \n",
      "40              False  \n",
      "41              False  \n",
      "42              False  \n",
      "43              False  \n",
      "44              False  \n",
      "45              False  \n",
      "46              False  \n",
      "47              False  \n",
      "48              False  \n",
      "49              False  \n",
      "50              False  \n"
     ]
    }
   ],
   "source": [
    "# checking for infinity \n",
    "a = joe_df.isin([np.inf, -np.inf])\n",
    "print(a)"
   ]
  },
  {
   "cell_type": "code",
   "execution_count": 43,
   "id": "6d6d71ec",
   "metadata": {},
   "outputs": [
    {
     "name": "stdout",
     "output_type": "stream",
     "text": [
      "\n",
      "Count of infinity values: \n",
      "\n",
      "It contains 0 infinite values\n"
     ]
    }
   ],
   "source": [
    "# printing the count of infinity values\n",
    "print(\"\\nCount of infinity values: \\n\")\n",
    "count = joe_df.isin([np.inf, -np.inf]).values.sum()\n",
    "print(\"It contains \" + str(count) + \" infinite values\")"
   ]
  },
  {
   "cell_type": "code",
   "execution_count": 44,
   "id": "cd2d1515",
   "metadata": {},
   "outputs": [],
   "source": [
    "# PCA (principal component analysis) to work on correlation\n",
    "pca1 = PCA(n_components=0.95)\n",
    "joe_pca = pca.fit_transform(joe_df)"
   ]
  },
  {
   "cell_type": "code",
   "execution_count": 45,
   "id": "c042a898",
   "metadata": {},
   "outputs": [],
   "source": [
    "# Calculate Euclidean distance (distance between dataset)\n",
    "# This will ensure that the elements are combined into clusters and store them in a special variable\n",
    "data_dis = pdist (joe_pca, 'euclidean')\n",
    "data_link = linkage (data_dis, method = 'average')"
   ]
  },
  {
   "cell_type": "markdown",
   "id": "44ae491b",
   "metadata": {},
   "source": [
    "## Determining the number of clusters"
   ]
  },
  {
   "cell_type": "markdown",
   "id": "42a2f53c",
   "metadata": {},
   "source": [
    "### Elbow method"
   ]
  },
  {
   "cell_type": "code",
   "execution_count": 46,
   "id": "17f4eef2",
   "metadata": {},
   "outputs": [
    {
     "data": {
      "image/png": "[encoded data removed]",
      "text/plain": [
       "<Figure size 432x288 with 1 Axes>"
      ]
     },
     "metadata": {
      "needs_background": "light"
     },
     "output_type": "display_data"
    },
    {
     "name": "stdout",
     "output_type": "stream",
     "text": [
      "clusters: 3\n"
     ]
    }
   ],
   "source": [
    "last = data_link[-10:, 2]\n",
    "last_rev = last[::-1]\n",
    "idxs = np.arange(1, len(last) + 1)\n",
    "plt.plot(idxs, last_rev)\n",
    "\n",
    "acceleration = np.diff(last, 2)  \n",
    "acceleration_rev = acceleration[::-1]\n",
    "plt.plot(idxs[:-2] + 1, acceleration_rev)\n",
    "plt.title('Elbow method')\n",
    "plt.xlabel('Number of Clusters')\n",
    "plt.ylabel('WCSS')\n",
    "plt.show()\n",
    "\n",
    "k = acceleration_rev.argmax()+ 2 \n",
    "print(\"clusters:\", k)"
   ]
  },
  {
   "cell_type": "code",
   "execution_count": 47,
   "id": "e5488472",
   "metadata": {},
   "outputs": [
    {
     "name": "stderr",
     "output_type": "stream",
     "text": [
      "C:\\Users\\Public\\Anaconda3\\lib\\site-packages\\sklearn\\cluster\\_kmeans.py:1039: UserWarning: KMeans is known to have a memory leak on Windows with MKL, when there are less chunks than available threads. You can avoid it by setting the environment variable OMP_NUM_THREADS=1.\n",
      "  warnings.warn(\n"
     ]
    },
    {
     "data": {
      "image/png": "[encoded data removed]",
      "text/plain": [
       "<Figure size 432x288 with 1 Axes>"
      ]
     },
     "metadata": {
      "needs_background": "light"
     },
     "output_type": "display_data"
    }
   ],
   "source": [
    "kmeans_2 = [KMeans(n_clusters=k, random_state=23).fit(joe_pca) for k in range (1, 10)]\n",
    "innertia = [model.inertia_ for model in kmeans_2]\n",
    "\n",
    "plt.plot(range(1, 10), innertia)\n",
    "plt.title('Elbow method')\n",
    "plt.xlabel('Number of Clusters')\n",
    "plt.ylabel('WCSS')\n",
    "plt.show()"
   ]
  },
  {
   "cell_type": "markdown",
   "id": "ecc8e97b",
   "metadata": {},
   "source": [
    "Should choose k = 3 (3 clusters)"
   ]
  },
  {
   "cell_type": "markdown",
   "id": "cb0af6e4",
   "metadata": {},
   "source": [
    "### Silhouette coefficient"
   ]
  },
  {
   "cell_type": "code",
   "execution_count": 48,
   "id": "5c3bb1a4",
   "metadata": {},
   "outputs": [
    {
     "data": {
      "image/png": "[encoded data removed]",
      "text/plain": [
       "<Figure size 432x288 with 1 Axes>"
      ]
     },
     "metadata": {
      "needs_background": "light"
     },
     "output_type": "display_data"
    }
   ],
   "source": [
    "silhoutte_scores2 = [silhouette_score(joe_pca, model.labels_) for model in kmeans_2[5:8]]\n",
    "plt.plot(range(2,5), silhoutte_scores2, \"bo-\")\n",
    "plt.xticks([0,1,2,3,4])\n",
    "plt.title('Silhoutte scores vs Number of clusters')\n",
    "plt.xlabel('Number of clusters')\n",
    "plt.ylabel('Silhoutte score')\n",
    "plt.show()"
   ]
  },
  {
   "cell_type": "code",
   "execution_count": 49,
   "id": "0be4424e",
   "metadata": {},
   "outputs": [
    {
     "name": "stdout",
     "output_type": "stream",
     "text": [
      "For n_clusters = 2, The Silhouette Coefficient is 0.485583613915136\n",
      "For n_clusters = 3, The Silhouette Coefficient is 0.501786378694421\n",
      "For n_clusters = 4, The Silhouette Coefficient is 0.47084989080080586\n",
      "For n_clusters = 5, The Silhouette Coefficient is 0.436539134571293\n",
      "For n_clusters = 6, The Silhouette Coefficient is 0.44012504936989333\n",
      "For n_clusters = 7, The Silhouette Coefficient is 0.400453239205691\n",
      "For n_clusters = 8, The Silhouette Coefficient is 0.3509009934657569\n",
      "For n_clusters = 9, The Silhouette Coefficient is 0.327981406675314\n",
      "For n_clusters = 10, The Silhouette Coefficient is 0.3086533813656375\n"
     ]
    }
   ],
   "source": [
    "# determine the number of clusters using the K-means method\n",
    "for n_cluster in range (2, 11):\n",
    "    kmeans = KMeans (n_clusters = n_cluster) .fit (joe_pca)\n",
    "    label = kmeans.labels_\n",
    "    sil_coeff = silhouette_score (joe_pca, label, metric = 'euclidean')\n",
    "    print (\"For n_clusters = {}, The Silhouette Coefficient is {}\". format (n_cluster, sil_coeff))"
   ]
  },
  {
   "cell_type": "markdown",
   "id": "6d70a647",
   "metadata": {},
   "source": [
    "Conclusion: 3 clusters."
   ]
  },
  {
   "cell_type": "markdown",
   "id": "50d073aa",
   "metadata": {},
   "source": [
    "## Clustering"
   ]
  },
  {
   "cell_type": "markdown",
   "id": "b8890952",
   "metadata": {},
   "source": [
    "### K-means"
   ]
  },
  {
   "cell_type": "code",
   "execution_count": 50,
   "id": "063beb37",
   "metadata": {},
   "outputs": [],
   "source": [
    "# build clustering using the KMeans method\n",
    "KM = KMeans(n_clusters = 3).fit(joe_pca)"
   ]
  },
  {
   "cell_type": "code",
   "execution_count": 51,
   "id": "a14430a3",
   "metadata": {},
   "outputs": [
    {
     "data": {
      "text/plain": [
       "array([2, 1, 2, 1, 2, 1, 2, 1, 3, 2, 2, 2, 1, 2, 1, 2, 3, 2, 2, 1, 1, 2,\n",
       "       1, 1, 1, 1, 1, 1, 2, 2, 2, 1, 3, 1, 1, 1, 1, 1, 2, 3, 2, 1, 2, 2,\n",
       "       1, 2, 1, 1, 1, 1, 1])"
      ]
     },
     "execution_count": 51,
     "metadata": {},
     "output_type": "execute_result"
    }
   ],
   "source": [
    "# display the resulting distribution by clusters\n",
    "# also the number of the cluster to which the string belongs\n",
    "clusters_KM = KM.labels_ + 1\n",
    "clusters_KM "
   ]
  },
  {
   "cell_type": "code",
   "execution_count": 52,
   "id": "8be76cc6",
   "metadata": {},
   "outputs": [
    {
     "data": {
      "image/png": "[encoded data removed]",
      "text/plain": [
       "<Figure size 720x432 with 1 Axes>"
      ]
     },
     "metadata": {
      "needs_background": "light"
     },
     "output_type": "display_data"
    }
   ],
   "source": [
    "#Lets visialize the clusters\n",
    "joe_df['cluster_id'] = KM.labels_\n",
    "for col in columns:\n",
    "    joe_df[col] = np.exp(joe_df[col])\n",
    "    \n",
    "plt.figure(figsize=(10,6))\n",
    "sns.scatterplot(data=joe_df, x='likes', y='user_followers_count', hue='cluster_id')\n",
    "plt.show()"
   ]
  },
  {
   "cell_type": "code",
   "execution_count": 53,
   "id": "492e4812",
   "metadata": {},
   "outputs": [],
   "source": [
    "# add cluster numbers to the original data\n",
    "dataKmean = joe_df\n",
    "dataKmean['group_no'] = clustersKmean"
   ]
  },
  {
   "cell_type": "code",
   "execution_count": 54,
   "id": "b9ba4497",
   "metadata": {},
   "outputs": [],
   "source": [
    "# Creating a new file with clusters\n",
    "writer = pd.ExcelWriter('joe_df_for_clust.xlsx')\n",
    "dataKmean.to_excel(writer, 'KMeans')\n",
    "writer.save()"
   ]
  },
  {
   "cell_type": "markdown",
   "id": "0bd605cf",
   "metadata": {},
   "source": [
    "### Hierarchical clustering and dendrogram"
   ]
  },
  {
   "cell_type": "code",
   "execution_count": 55,
   "id": "3561f643",
   "metadata": {},
   "outputs": [
    {
     "data": {
      "text/plain": [
       "<matplotlib.lines.Line2D at 0x21e9a8493a0>"
      ]
     },
     "execution_count": 55,
     "metadata": {},
     "output_type": "execute_result"
    },
    {
     "data": {
      "image/png": "[encoded data removed]",
      "text/plain": [
       "<Figure size 720x504 with 1 Axes>"
      ]
     },
     "metadata": {
      "needs_background": "light"
     },
     "output_type": "display_data"
    }
   ],
   "source": [
    "plt.figure(figsize=(10, 7))  \n",
    "plt.title(\"Dendrogram - Joe Biden\")  \n",
    "d = shc.dendrogram(shc.linkage(joe_pca, method='ward'))\n",
    "plt.axhline(y=25000, color='r', linestyle='--')"
   ]
  },
  {
   "cell_type": "code",
   "execution_count": 56,
   "id": "be83972c",
   "metadata": {},
   "outputs": [
    {
     "data": {
      "text/plain": [
       "array([1, 0, 1, 0, 1, 0, 1, 0, 2, 1, 1, 1, 0, 1, 0, 1, 2, 1, 1, 0, 0, 1,\n",
       "       0, 0, 0, 0, 0, 0, 1, 0, 1, 0, 2, 0, 0, 0, 0, 0, 1, 2, 1, 0, 1, 1,\n",
       "       0, 1, 0, 0, 0, 0, 0], dtype=int64)"
      ]
     },
     "execution_count": 56,
     "metadata": {},
     "output_type": "execute_result"
    }
   ],
   "source": [
    "clustering = AgglomerativeClustering(n_clusters=3, affinity='euclidean', linkage='ward')  \n",
    "clustering.fit_predict(joe_pca)"
   ]
  },
  {
   "cell_type": "code",
   "execution_count": 57,
   "id": "141c255b",
   "metadata": {},
   "outputs": [
    {
     "data": {
      "text/plain": [
       "<matplotlib.collections.PathCollection at 0x21e9fef0430>"
      ]
     },
     "execution_count": 57,
     "metadata": {},
     "output_type": "execute_result"
    },
    {
     "data": {
      "image/png": "[encoded data removed]",
      "text/plain": [
       "<Figure size 720x504 with 1 Axes>"
      ]
     },
     "metadata": {
      "needs_background": "light"
     },
     "output_type": "display_data"
    }
   ],
   "source": [
    "plt.figure(figsize=(10, 7))  \n",
    "plt.scatter(joe_df['likes'], joe_df['user_followers_count'], c=cluster.labels_) "
   ]
  },
  {
   "cell_type": "markdown",
   "id": "54da09d2",
   "metadata": {},
   "source": [
    "Although the clusters of some points differ from the results got after K-means clustering, the pattern is the same."
   ]
  },
  {
   "cell_type": "code",
   "execution_count": null,
   "id": "95585f89",
   "metadata": {},
   "outputs": [],
   "source": []
  }
 ],
 "metadata": {
  "kernelspec": {
   "display_name": "Python 3 (ipykernel)",
   "language": "python",
   "name": "python3"
  },
  "language_info": {
   "codemirror_mode": {
    "name": "ipython",
    "version": 3
   },
   "file_extension": ".py",
   "mimetype": "text/x-python",
   "name": "python",
   "nbconvert_exporter": "python",
   "pygments_lexer": "ipython3",
   "version": "3.8.12"
  }
 },
 "nbformat": 4,
 "nbformat_minor": 5
}
